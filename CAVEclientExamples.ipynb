{
 "cells": [
  {
   "cell_type": "markdown",
   "source": [
    "### 1. One client to rule them all\n",
    "\n",
    "The Connectome Annotation Versioning Engine framework consists of a number of different services, each with a specific set of tasks that it can perform through REST endpoints. This module is designed to ease programmatic interaction with all of the various endpoints. Going forward, we also will be increasingly using authentication tokens for programmatic access to most if not all of the services. In order to collect a given server, datastack name, and user token together into a coherent package that can be used on multiple endpoints, we will use a CAVEclient that can build appropriately configured clients for each of the specific services.\n",
    "\n",
    "The following examples cover each of the client subtypes that are associated with a single service. The ImageryClient, which is a more complex collection of tools, will be covered elsewhere."
   ],
   "metadata": {}
  },
  {
   "cell_type": "markdown",
   "source": [
    "#### Setting up your credentials\n",
    "\n",
    "Most services require you to authenticate yourself. In order to use authenticated services in the CAVEclient, you need to get a token for yourself and save it to your hard drive. This token should be treated as a personal secret, like a password.\n",
    "\n",
    "The easiest way to get your token is to use the client in its so-called \"global\" mode, without reference to any particular dataset. Once your client is initialized, you can get instructions for how to get a new token by running `client.auth.get_new_token()`. If your server is not for the MICrONs project, you may need to set a server address when initializing the CAVEclient.\n",
    "\n",
    "Note: If you have already set up Graphene authetication in CloudVolume, the same token applies. The CAVEclient will read from and write to the same default file as CloudVolume, so you probably need to do nothing to use it. If you need multiple tokens for different projects, please read the documentation.\n"
   ],
   "metadata": {}
  },
  {
   "cell_type": "code",
   "execution_count": null,
   "source": [
    "from caveclient import CAVEclient\n",
    "\n",
    "client = CAVEclient()\n",
    "client.auth.get_new_token()"
   ],
   "outputs": [],
   "metadata": {}
  },
  {
   "cell_type": "markdown",
   "source": [
    "Follow the instructions that are printed out. If you cannot log in in step 2, contact the project administrators. Copy the token (only the long alphanumeric part!) and save it to your drive by running the command specified in step 3a after replacing the PASTE_YOUR_TOKEN_HERE bit with the value you got after login. Once this is done, you shouldn't need to do it again for a long while. Note that every time you do the refresh_token step, you invalidate any previous token. That means that if you want to use the CAVEclient on multiple computers, you need to copy the same token to each device instead of going through these steps multiple times."
   ],
   "metadata": {}
  },
  {
   "cell_type": "markdown",
   "source": [
    "#### Initializing a CAVEclient\n",
    "\n",
    "Most services require the use of a specific datastack. Once you have set up credentials on your computer. we can specify a datastack."
   ],
   "metadata": {}
  },
  {
   "cell_type": "code",
   "execution_count": null,
   "source": [
    "from caveclient import CAVEclient\n",
    "\n",
    "datastack_name = 'minnie65_phase3_v0'\n",
    "client = CAVEclient(datastack_name)"
   ],
   "outputs": [],
   "metadata": {}
  },
  {
   "cell_type": "markdown",
   "source": [
    "Just to confirm that this works, let's see if we can get the EM image source from the InfoService. If you get a reasonable looking path, everything is okay."
   ],
   "metadata": {}
  },
  {
   "cell_type": "code",
   "execution_count": null,
   "source": [
    "print(f\"The image source is: {client.info.image_source()}\")"
   ],
   "outputs": [],
   "metadata": {}
  },
  {
   "cell_type": "markdown",
   "source": [
    "If you don't know what datastacks exist, you can start a client with or without a datastack name (like we did when we set the auth token) and run `client.info.get_datastacks()`"
   ],
   "metadata": {}
  },
  {
   "cell_type": "markdown",
   "source": [
    "### 2. Authentication Service\n",
    "\n",
    "The AuthClient handles storing and loading your token or tokens and inserting it into requests in other clients. We can access the auth client from `client.auth`. Once you have saved a token, you probably won't interact with this client very often, however it makes it convenient for saving new tokens the first time and has some other handy features. For example, to check what your token is (for example to set up a second computer)."
   ],
   "metadata": {}
  },
  {
   "cell_type": "code",
   "execution_count": null,
   "source": [
    "auth = client.auth\n",
    "print(f\"My current token is: {auth.token}\")"
   ],
   "outputs": [],
   "metadata": {}
  },
  {
   "cell_type": "markdown",
   "source": [
    "#### Loading saved tokens\n",
    "The credentials save by default in `~/.cloudvolume/secrets/cave-secret.json`. You can try opening that file to see what we just created.\n",
    "\n",
    "If we had wanted to use a different file or a different json key, we could have specified that in `auth.save_token`.\n",
    "\n",
    "Because we used the default values, this token is used automatically when we intialize a new CAVEclient. If we wanted to use a different token file, token key, or even directly specify a token we could also do so here. Of course, a bad token will cause an unauthorized error."
   ],
   "metadata": {}
  },
  {
   "cell_type": "code",
   "execution_count": null,
   "source": [
    "client = CAVEclient(datastack_name)\n",
    "print(f\"Now my basic token is: {client.auth.token}\")\n",
    "\n",
    "client_direct = CAVEclient(datastack_name, auth_token='another_fake_token_678')\n",
    "print(f\"A directly specified token is: {client_direct.auth.token}\")"
   ],
   "outputs": [],
   "metadata": {}
  },
  {
   "cell_type": "markdown",
   "source": [
    "If you use a CAVEclient, the AuthClient and its token will be automatically applied to any other services without further use. "
   ],
   "metadata": {}
  },
  {
   "cell_type": "markdown",
   "source": [
    "### 3. Info Service\n",
    "A datastack has a number of complex paths to various data sources that together comprise a datastack. Rather than hardcode these paths, the InfoService allows one to query the location of each data source. This is also convenient in case data sources change.\n",
    "\n",
    "An InfoClient is accessed at `client.info`."
   ],
   "metadata": {}
  },
  {
   "cell_type": "code",
   "execution_count": null,
   "source": [
    "client.info"
   ],
   "outputs": [],
   "metadata": {}
  },
  {
   "cell_type": "code",
   "execution_count": null,
   "source": [
    "client = CAVEclient(datastack_name)\n",
    "print(f\"This is an info client for {client.info.datastack_name} on {client.info.server_address}\")"
   ],
   "outputs": [],
   "metadata": {}
  },
  {
   "cell_type": "markdown",
   "source": [
    "#### Accessing datastack information\n",
    "All of the information accessible for the datastack can be seen as a dict using `get_datastack_info()`."
   ],
   "metadata": {}
  },
  {
   "cell_type": "code",
   "execution_count": null,
   "source": [
    "client.info.get_datastack_info()"
   ],
   "outputs": [],
   "metadata": {}
  },
  {
   "cell_type": "markdown",
   "source": [
    "Individual entries can be found as well. Use tab autocomplete to see the various possibilities."
   ],
   "metadata": {}
  },
  {
   "cell_type": "code",
   "execution_count": null,
   "source": [
    "client.info.local_server()"
   ],
   "outputs": [],
   "metadata": {}
  },
  {
   "cell_type": "markdown",
   "source": [
    "### 4. JSON Service\n",
    "\n",
    "We store the JSON description of a Neuroglancer state in a simple database at the JSON Service. This is a convenient way to build states to distribute to people, or pull states to parse work by individuals. The JSON Client is at `client.state`. Note that the state service will work with or without a datastack set."
   ],
   "metadata": {}
  },
  {
   "cell_type": "code",
   "execution_count": null,
   "source": [
    "client.state"
   ],
   "outputs": [],
   "metadata": {}
  },
  {
   "cell_type": "markdown",
   "source": [
    "#### Retrieving a state\n",
    "\n",
    "JSON states are found simply by their ID, which you get when uploading a state. You can download a state with `get_state_json`."
   ],
   "metadata": {}
  },
  {
   "cell_type": "code",
   "execution_count": null,
   "source": [
    "example_id = 5762925562167296\n",
    "example_state = client.state.get_state_json(example_id)\n",
    "example_state['layers'][0]"
   ],
   "outputs": [],
   "metadata": {}
  },
  {
   "cell_type": "markdown",
   "source": [
    "#### Uploading a state\n",
    "You can also upload states with `upload_state_json`. If you do this, the state id is returned by the function. Note that there is no easy way to query what you uploaded later, so be VERY CAREFUL with this state id if you wish to see it again.\n",
    "\n",
    "*Note: If you are working with a Neuroglancer Viewer object or similar, in order to upload, use viewer.state.to_json() to generate this representation.*"
   ],
   "metadata": {}
  },
  {
   "cell_type": "code",
   "execution_count": null,
   "source": [
    "example_state['layers'][0]['name'] = 'example_name'\n",
    "new_id = client.state.upload_state_json(example_state)"
   ],
   "outputs": [],
   "metadata": {}
  },
  {
   "cell_type": "code",
   "execution_count": null,
   "source": [
    "test_state = client.state.get_state_json(new_id)\n",
    "test_state['layers'][0]['name']"
   ],
   "outputs": [],
   "metadata": {}
  },
  {
   "cell_type": "markdown",
   "source": [
    "#### Generating Neuroglancer URLs\n",
    "\n",
    "Neuroglancer can automatically look up a JSON state based on its ID if you pass the URL to it correctly. The function `build_neuroglancer_url` helps format these correctly. Note that you need to specify the base URL for the Neuroglancer deployment you wish to use."
   ],
   "metadata": {}
  },
  {
   "cell_type": "code",
   "execution_count": null,
   "source": [
    "url = client.state.build_neuroglancer_url(state_id=new_id, ngl_url='https://neuromancer-seung-import.appspot.com')\n",
    "print(url)"
   ],
   "outputs": [],
   "metadata": {}
  },
  {
   "cell_type": "markdown",
   "source": [
    "### 5. ChunkedGraph\n",
    "\n",
    "The ChunkedGraph client allows one to interact with the ChunkedGraph, which stores and updates the supervoxel agglomeration graph. This is most often useful for looking up an object root id of a supervoxel or looking up supervoxels belonging to a root id. The ChunkedGraph client is at `client.chunkedgraph`."
   ],
   "metadata": {}
  },
  {
   "cell_type": "markdown",
   "source": [
    "#### Look up a supervoxel\n",
    "Usually in Neuroglancer, one never notices supervoxel ids, but they are important for programmatic work. In order to look up the root id for a location in space, one needs to use the supervoxel segmentation to get the associated supervoxel id. The ChunkedGraph client makes this easy using the `get_root_ids` method."
   ],
   "metadata": {}
  },
  {
   "cell_type": "code",
   "execution_count": null,
   "source": [
    "from caveclient import CAVEclient\n",
    "\n",
    "datastack_name = 'minnie65_phase3_v0'\n",
    "client = CAVEclient(datastack_name)"
   ],
   "outputs": [],
   "metadata": {}
  },
  {
   "cell_type": "code",
   "execution_count": null,
   "source": [
    "sv_id = 109362238070465629\n",
    "client.chunkedgraph.get_root_id(supervoxel_id=sv_id)"
   ],
   "outputs": [],
   "metadata": {}
  },
  {
   "cell_type": "markdown",
   "source": [
    "However, as proofreading occurs, the root id that a supervoxel belongs to can change. By default, this function returns the current state, however one can also provide a UTC timestamp to get the root id at a particular moment in history. This can be useful for reproducible analysis."
   ],
   "metadata": {}
  },
  {
   "cell_type": "code",
   "execution_count": null,
   "source": [
    "import datetime\n",
    "\n",
    "date_3_days_ago = datetime.datetime.now() - datetime.timedelta(days=3)\n",
    "\n",
    "# I looked up the UTC POSIX timestamp from a day in early 2019. \n",
    "#timestamp = datetime.datetime.utcfromtimestamp(1546595253)\n",
    "\n",
    "client.chunkedgraph.get_root_id(supervoxel_id=sv_id, timestamp=date_3_days_ago)"
   ],
   "outputs": [],
   "metadata": {}
  },
  {
   "cell_type": "markdown",
   "source": [
    "#### Getting supervoxels for a root id\n",
    "\n",
    "A root id is associated with a particular agglomeration of supervoxels, which can be found with the `get_leaves` method. A new root id is generated for every new change in the chunkedgraph, so time stamps do not apply."
   ],
   "metadata": {}
  },
  {
   "cell_type": "code",
   "execution_count": null,
   "source": [
    "root_id = 864691134988869442\n",
    "client.chunkedgraph.get_leaves(root_id)"
   ],
   "outputs": [],
   "metadata": {}
  },
  {
   "cell_type": "markdown",
   "source": [
    "### 7. AnnotationEngine\n",
    "\n",
    "The AnnotationClient is used to interact with the AnnotationEngine service to create tables from existing schema, upload new data, and download existing annotations. Note that annotations in the AnnotationEngine are not linked to any particular segmentation, and thus do not include any root ids. An annotation client is accessed with `client.annotation`."
   ],
   "metadata": {}
  },
  {
   "cell_type": "markdown",
   "source": [
    "#### Get existing tables\n",
    "\n",
    "A list of the existing tables for the datastack can be found at with `get_tables`."
   ],
   "metadata": {}
  },
  {
   "cell_type": "code",
   "execution_count": null,
   "source": [
    "all_tables = client.annotation.get_tables()\n",
    "all_tables"
   ],
   "outputs": [],
   "metadata": {}
  },
  {
   "cell_type": "markdown",
   "source": [
    "Each table has three main properties that can be useful to know:\n",
    "* `table_name` : The table name, used to refer to it when uploading or downloading annotations. This is also passed through to the table in the Materialized database.\n",
    "* `schema_name` : The name of the table's schema from EMAnnotationSchemas (see below).\n",
    "* `max_annotation_id` : An upper limit on the number of annotations already contained in the table."
   ],
   "metadata": {}
  },
  {
   "cell_type": "markdown",
   "source": [
    "#### Downloading annotations\n",
    "\n",
    "You can download the JSON representation of a data point through the `get_annotation` method. This can be useful if you need to look up information on unmaterialized data, or to see what a properly templated annotation looks like."
   ],
   "metadata": {}
  },
  {
   "cell_type": "code",
   "execution_count": null,
   "source": [
    "table_name = all_tables[0]\n",
    "annotation_id = 1\n",
    "client.annotation.get_annotation(annotation_ids=1, table_name=table_name)"
   ],
   "outputs": [],
   "metadata": {}
  },
  {
   "cell_type": "markdown",
   "source": [
    "#### Create a new table\n",
    "\n",
    "One can create a new table with a specified schema with the `create_table` method:\n",
    "\n",
    "```\n",
    "client.annotation.create_table(table_name='test_table',\n",
    "                               schema_name='microns_func_coreg')\n",
    "```\n",
    "\n",
    "Now, new data can be generated as a dict or list of dicts following the schema and uploaded with `post_annotation`.\n",
    "For example, a `microns_func_coreg` point needs to have:\n",
    "    * `type` set to `microns_func_coreg`\n",
    "    * `pt` set to a dict with `position` as a key and the xyz location as a value.\n",
    "    * `func_id` set to an integer.\n",
    "    \n",
    "The following will create a new annotation and upload it to the service: \n",
    "```\n",
    "new_data = {'type': 'microns_func_coreg',\n",
    "            'pt': {'position': [1,2,3]},\n",
    "            'func_id': 0}\n",
    "            \n",
    "client.annotation.post_annotation(table_name='test_table', data=[new_data])\n",
    "```"
   ],
   "metadata": {}
  },
  {
   "cell_type": "markdown",
   "source": [
    "### 7. EMAnnotationSchemas\n",
    "\n",
    "The EMAnnotationSchemas client lets one look up the available schemas and how they are defined. This is mostly used for programmatic interactions between services, but can be useful when looking up schema definitions for new tables."
   ],
   "metadata": {}
  },
  {
   "cell_type": "markdown",
   "source": [
    "#### Get the list of schema \n",
    "One can get the list of all available schema with the `schema` method. Currently, new schema have to be generated on the server side, although we aim to have a generic set available to use."
   ],
   "metadata": {}
  },
  {
   "cell_type": "code",
   "execution_count": null,
   "source": [
    "client.schema.schema()"
   ],
   "outputs": [],
   "metadata": {}
  },
  {
   "cell_type": "markdown",
   "source": [
    "#### View a specific schema\n",
    "\n",
    "The details of each schema can be viewed with the `schema_definition` method, formatted as per JSONSchema. "
   ],
   "metadata": {}
  },
  {
   "cell_type": "code",
   "execution_count": null,
   "source": [
    "example_schema = client.schema.schema_definition('microns_func_coreg')\n",
    "example_schema"
   ],
   "outputs": [],
   "metadata": {}
  },
  {
   "cell_type": "markdown",
   "source": [
    "This is mostly useful for programmatic interaction between services at the moment, but can also be used to inspect the expected form of an annotation by digging into the format."
   ],
   "metadata": {}
  },
  {
   "cell_type": "code",
   "execution_count": null,
   "source": [
    "example_schema['definitions']['FunctionalCoregistration']"
   ],
   "outputs": [],
   "metadata": {}
  }
 ],
 "metadata": {
  "kernelspec": {
   "display_name": "Python 3",
   "language": "python",
   "name": "python3"
  },
  "language_info": {
   "codemirror_mode": {
    "name": "ipython",
    "version": 3
   },
   "file_extension": ".py",
   "mimetype": "text/x-python",
   "name": "python",
   "nbconvert_exporter": "python",
   "pygments_lexer": "ipython3",
   "version": "3.7.7"
  }
 },
 "nbformat": 4,
 "nbformat_minor": 4
}