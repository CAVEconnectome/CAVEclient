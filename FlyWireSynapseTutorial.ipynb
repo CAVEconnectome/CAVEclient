{
 "cells": [
  {
   "cell_type": "markdown",
   "metadata": {},
   "source": [
    "# The FrameworkClient\n",
    "\n",
    "The FrameworkClient is a client side library to allow easy interaction with the services within CAVE (connectome annotation versioning engine, also known as Dynamic Annotation Framework), eg. the annotations, stateserver. The github repository is public:\n",
    "https://github.com/seung-lab/AnnotationFrameworkClient\n",
    "\n",
    "The library can be installed directly from the github repository or from the prebuilt versions using pip:\n",
    "```\n",
    "pip install annotationframeworkclient\n",
    "```\n",
    "\n",
    "\n",
    "## Tutorials\n",
    "\n",
    "This tutorial mainly covers the interactions with the materialized annotation tables. More information and better explanations of the other functionalities of the client can be found in the following tutorial. Please be advised that depending on your permission level you may not be able to execute all queries in this tutorial with the preset parameters as it was written with defaults for iarpa's microns project:\n",
    "https://github.com/seung-lab/AnnotationFrameworkClient/blob/master/FrameworkClientExamples.ipynb\n",
    "\n",
    "\n",
    "## Authentication & Authorization\n",
    "\n",
    "If this is your first time to interact with any part of CAVE, chances are you need to setup your local credentials for your FlyWire account first. Please follow the section \"Setting up your credentials\" at the beginning of the tutorial above to do so.\n",
    "\n",
    "You will need to have access to the FlyWire's production dataset to retrieve annotations. Otherwise you will see\n",
    "\n",
    "```HTTPError: 403 Client Error: FORBIDDEN for url```\n",
    "\n",
    "errors upon querying the materialization server."
   ]
  },
  {
   "cell_type": "markdown",
   "metadata": {},
   "source": [
    "## Initialize FrameworkClient\n",
    "\n",
    "The FrameworkClient is instantiated with a datastack name. A datastack is a set of segmentation, and annotation tables and lives within an aligned volume (the coordinate space). FlyWire's main datastack is `flywire_fafb_production`, the aligned volume is `fafb_seung_alignment_v0` (v14.1). For convenience, there are other defaults set on the datastack level."
   ]
  },
  {
   "cell_type": "code",
   "execution_count": 2,
   "metadata": {},
   "outputs": [],
   "source": [
    "import numpy as np\n",
    "import datetime\n",
    "from annotationframeworkclient import FrameworkClient"
   ]
  },
  {
   "cell_type": "code",
   "execution_count": 3,
   "metadata": {},
   "outputs": [],
   "source": [
    "datastack_name = \"flywire_fafb_production\"\n",
    "client = FrameworkClient(datastack_name)"
   ]
  },
  {
   "cell_type": "markdown",
   "metadata": {},
   "source": [
    "## Annotation tables\n",
    "\n",
    "Annotations are represented by points in space and parameters (such as size, type). At specific timepoints, annotations are combined with the (proofread) segmentation to create a materialized version of the annotation table. The AnnotationEngine (`client.annotation`) owns the raw annotations and the Materialization Service (`client.materialize`) owns the materialized versions of these tables. \n",
    "\n",
    "To check what annotation tables are visible to you run"
   ]
  },
  {
   "cell_type": "code",
   "execution_count": 4,
   "metadata": {},
   "outputs": [
    {
     "name": "stdout",
     "output_type": "stream",
     "text": [
      "https://prod.flywire-daf.com/annotation/api/v2/aligned_volume/fafb_seung_alignment_v0/table\n"
     ]
    },
    {
     "data": {
      "text/plain": [
       "['synapses_nt_v1']"
      ]
     },
     "execution_count": 4,
     "metadata": {},
     "output_type": "execute_result"
    }
   ],
   "source": [
    "client.annotation.get_tables()"
   ]
  },
  {
   "cell_type": "markdown",
   "metadata": {},
   "source": [
    "Every table has metadata associated with it which includes information about the owner/creator, a description and a schema that annotations in this table follow. Please review the metadata of any table you might use in the future before using it as it might contain instructions and restrictions for its usage and how to credit it's creators. For instance, the (v1) synapse table (`synapses_nt_v1`) includes an extensive description on all its columns, credits people that created it, contains instructions for citing this resource among others:"
   ]
  },
  {
   "cell_type": "code",
   "execution_count": 5,
   "metadata": {},
   "outputs": [
    {
     "name": "stdout",
     "output_type": "stream",
     "text": [
      "FlyWire synapse description\r\n",
      "Synapse version: 20191211\r\n",
      "NT version: 20201223\r\n",
      "\r\n",
      "Synapses in this table consist of a pre- and a postsynaptic point (in nm), confidence scores, and neurotransmitter information. \r\n",
      "The synapses were predicted by Buhmann et al [1] for the v14 alignment of the FAFB dataset. The FlyWire team remapped these synapses into the v14.1 space used by FlyWire with an accuracy of <64nm (therefore, this is a potential source of error). This version of the Buhmann et al. synapses was trained on the initial training set from the calyx and performance varies across brain areas accordingly.\r\n",
      "Buhmann et al. assigned two scores to their synapses representing different measurements of confidence. The “connection_score” column contains the scores assigned by them during prediction (higher is more confident) and “cleft_score” contains the scores acquired by Buhmann et al. by using the synapse segmentation from Heinrich et al. [2] (higher is more confident). For the latter, Buhmann et al. found the highest value in Heinrich et al.’s segmentation along the line between the pre- and postsynaptic point for each synapse. This represents an individual assessment of the validity of each synapse because Buhmann et al. found synapses without using the segmentation by Heinrich et al.. Buhmann et al. suggested using the product of both scores, others found that the “cleft_score” alone with a threshold of 50-100 to be a good filter. We suggest validating analyses with various thresholds.\r\n",
      "Some synapses were (falsely) annotated multiple times. We found that most of these can be fixed by merging synapses between the same partners that are <150nm apart on the presynaptic side. The threshold might vary for different cell types and again we suggest validating analyses with various thresholds.\r\n",
      "Eckstein et al. [3] developed a classifier to predict probabilities for each of six neurotransmitters for each synapse (sum to 1, Dopamine (DA), Acetylcholine (ACh), Glutamate (Glut), Octopamine (OCT), Serotonin (SER), Gabaergic (GABA)). Davi Bock, Gregory Jefferis and Eric Perlman contributed infrastructure to run their classifier on all synapses from Buhmann et al. . For some synapses (<20k) no neurotransmitter information could be acquired. Probabilities for these have been set to all 0. Additionally, the “valid_nt” column can be used to filter these out (False=no neurotransmitter information available). Improving this classifier through the acquisition of additional ground truth is actively worked on. The classifications of ACh, GABA and Glu appear to be more robust than DA, OCT and SER in this version. Additionally, there was little training data from the optic lobe and results are more robust in the central brain. \r\n",
      "\r\n",
      "For any use of these synapses in a study, please cite Buhmann et al. [1]. For using the “cleft_score” please also cite Heinrich et al. [2]. When including the neurotransmitter information please also cite Eckstein et al. [3].\r\n",
      "\r\n",
      "The prediction and dissemination of the neurotransmitter information was supported by NIH BRAIN Initiative (grant 1RF1MH120679-01); additional work including assembling ground truth data was also supported by Wellcome trust (203261/Z/16/Z). \r\n",
      "\r\n",
      "[1] Julia Buhmann, Arlo Sheridan, Stephan Gerhard, Renate Krause, Tri Nguyen, Larissa Heinrich, Philipp Schlegel, Wei-Chung Allen Lee, Rachel Wilson, Stephan Saalfeld, Gregory Jefferis, Davi Bock, Srinivas Turaga, Matthew Cook, Jan Funke. 2019. “Automatic Detection of Synaptic Partners in a Whole-Brain Drosophila EM Dataset”. bioRxiv\r\n",
      "[2] Heinrich L., Funke J., Pape C., Nunez-Iglesias J., Saalfeld S. 2018. “Synaptic Cleft Segmentation in Non-isotropic Volume Electron Microscopy of the Complete Drosophila Brain”. MICCAI 2018. Lecture Notes in Computer Science, vol 11071. Springer\r\n",
      "[3] Nils Eckstein, Alexander S. Bates, Michelle Du, Volker Hartenstein, Gregory S.X.E. Jefferis, Jan Funke. 2020. “Neurotransmitter Classification from Electron Microscopy Images at Synaptic Sites in Drosophila”. bioRxiv\r\n",
      "\n"
     ]
    }
   ],
   "source": [
    "meta_data = client.annotation.get_table_metadata(\"synapses_nt_v1\")\n",
    "print(meta_data[\"description\"])"
   ]
  },
  {
   "cell_type": "markdown",
   "metadata": {},
   "source": [
    "The meta data contains information about the schema which ultimately determines how annotations in a table are structured. All annotations in a table follow the same schema. The synapse table follows the `fly_nt_synapse` schema:"
   ]
  },
  {
   "cell_type": "code",
   "execution_count": 6,
   "metadata": {},
   "outputs": [
    {
     "data": {
      "text/plain": [
       "'fly_nt_synapse'"
      ]
     },
     "execution_count": 6,
     "metadata": {},
     "output_type": "execute_result"
    }
   ],
   "source": [
    "meta_data[\"schema_type\"]"
   ]
  },
  {
   "cell_type": "markdown",
   "metadata": {},
   "source": [
    "## Materialized annotation tables & Queries"
   ]
  },
  {
   "cell_type": "markdown",
   "metadata": {},
   "source": [
    "```\n",
    "materialization = annotation + segmentation snapshot\n",
    "```\n",
    "\n",
    "As the segmentation and annotations change over time, we need to create snapshots of a combined view of them (materialized versions). Materialized versions of the annotation tables are (automatically) generated at a certain frequency. In addition to that, we are planning to include an option to retrieve any timestamp since the latest materialization (\"live\") but that is not available at the moment. \n",
    "\n",
    "There are usually a number of materialized versions available at the same time:"
   ]
  },
  {
   "cell_type": "code",
   "execution_count": 7,
   "metadata": {},
   "outputs": [
    {
     "data": {
      "text/plain": [
       "[56, 64, 65, 66, 67]"
      ]
     },
     "execution_count": 7,
     "metadata": {},
     "output_type": "execute_result"
    }
   ],
   "source": [
    "client.materialize.get_versions()"
   ]
  },
  {
   "cell_type": "markdown",
   "metadata": {},
   "source": [
    "Each version comes with meta data about the time when it was created and when it will be deleted (expired). Different tables have different lifetimes and some may be LTS versions. The exact frequency and lifetime of tables will depend on how the community is using these tables. "
   ]
  },
  {
   "cell_type": "code",
   "execution_count": 8,
   "metadata": {},
   "outputs": [
    {
     "data": {
      "text/plain": [
       "{'expires_on': datetime.datetime(2021, 6, 14, 8, 10, 0, 234862),\n",
       " 'version': 67,\n",
       " 'valid': True,\n",
       " 'datastack': 'flywire_fafb_production',\n",
       " 'time_stamp': datetime.datetime(2021, 6, 7, 8, 10, 0, 234862),\n",
       " 'id': 56}"
      ]
     },
     "execution_count": 8,
     "metadata": {},
     "output_type": "execute_result"
    }
   ],
   "source": [
    "latest_version = max(client.materialize.get_versions())\n",
    "client.materialize.get_version_metadata(latest_version)"
   ]
  },
  {
   "cell_type": "markdown",
   "metadata": {},
   "source": [
    "Generally, specifying versions for the materialize service is optional. The latest version is used if no version is defined. \n",
    "\n",
    "Each materialization version contains a set of annotation tables. At the moment all tables are included in a materialization but in the future we might not include all tables in every materialization:"
   ]
  },
  {
   "cell_type": "code",
   "execution_count": 9,
   "metadata": {},
   "outputs": [
    {
     "data": {
      "text/plain": [
       "['synapses_nt_v1']"
      ]
     },
     "execution_count": 9,
     "metadata": {},
     "output_type": "execute_result"
    }
   ],
   "source": [
    "client.materialize.get_tables()"
   ]
  },
  {
   "cell_type": "markdown",
   "metadata": {},
   "source": [
    "### Queries"
   ]
  },
  {
   "cell_type": "markdown",
   "metadata": {},
   "source": [
    "Here, we demonstrate some queries with the synapses from Buhmann et al.. For some essential annotation types, default tables are define in the centralized info service. This way, one automatically uses the latest synapse table after an update. "
   ]
  },
  {
   "cell_type": "code",
   "execution_count": 10,
   "metadata": {},
   "outputs": [
    {
     "name": "stdout",
     "output_type": "stream",
     "text": [
      "synapses_nt_v1\n"
     ]
    }
   ],
   "source": [
    "synapse_table = client.info.get_datastack_info()['synapse_table']\n",
    "print(synapse_table)"
   ]
  },
  {
   "cell_type": "markdown",
   "metadata": {},
   "source": [
    "Each table in this list is stored as a SQL table on the backend. The client allows users to query these tables through the frontend of the Materialization Service conventiently without the need for SQL specific language. The client will format the results as pandas dataframes. Queries are restricted to a size of 200k rows to not overwhelm the server. Should a query result in a larger list of rows, only the first 200k are returned. For bulk downloads (eg. for data preservation before a publication) please contact us.\n",
    "\n",
    "To demonstrate this this query would pull the entire table but will only gather 200k rows (should take <2min). A warning will be raised if the query is cut short."
   ]
  },
  {
   "cell_type": "code",
   "execution_count": 11,
   "metadata": {},
   "outputs": [
    {
     "name": "stderr",
     "output_type": "stream",
     "text": [
      "WARNING:root:201 - \"Limited query to 200000 rows\n"
     ]
    },
    {
     "name": "stdout",
     "output_type": "stream",
     "text": [
      "CPU times: user 763 ms, sys: 162 ms, total: 925 ms\n",
      "Wall time: 6.88 s\n"
     ]
    }
   ],
   "source": [
    "%%time\n",
    "\n",
    "syn_df = client.materialize.query_table(synapse_table)"
   ]
  },
  {
   "cell_type": "code",
   "execution_count": 12,
   "metadata": {},
   "outputs": [
    {
     "name": "stdout",
     "output_type": "stream",
     "text": [
      "200000\n"
     ]
    }
   ],
   "source": [
    "print(len(syn_df))"
   ]
  },
  {
   "cell_type": "markdown",
   "metadata": {},
   "source": [
    "Here, we set the materialization version specifically. If the materialization version is not specified, the query defaults to the most recent version.\n",
    "\n",
    "Let's take a brief look at the columns to illustrate how the materialization extends an annotation table:"
   ]
  },
  {
   "cell_type": "code",
   "execution_count": 13,
   "metadata": {},
   "outputs": [
    {
     "data": {
      "text/html": [
       "<div>\n",
       "<style scoped>\n",
       "    .dataframe tbody tr th:only-of-type {\n",
       "        vertical-align: middle;\n",
       "    }\n",
       "\n",
       "    .dataframe tbody tr th {\n",
       "        vertical-align: top;\n",
       "    }\n",
       "\n",
       "    .dataframe thead th {\n",
       "        text-align: right;\n",
       "    }\n",
       "</style>\n",
       "<table border=\"1\" class=\"dataframe\">\n",
       "  <thead>\n",
       "    <tr style=\"text-align: right;\">\n",
       "      <th></th>\n",
       "      <th>id</th>\n",
       "      <th>valid</th>\n",
       "      <th>pre_pt_supervoxel_id</th>\n",
       "      <th>pre_pt_root_id</th>\n",
       "      <th>post_pt_supervoxel_id</th>\n",
       "      <th>post_pt_root_id</th>\n",
       "      <th>connection_score</th>\n",
       "      <th>cleft_score</th>\n",
       "      <th>gaba</th>\n",
       "      <th>ach</th>\n",
       "      <th>glut</th>\n",
       "      <th>oct</th>\n",
       "      <th>ser</th>\n",
       "      <th>da</th>\n",
       "      <th>valid_nt</th>\n",
       "      <th>pre_pt_position</th>\n",
       "      <th>post_pt_position</th>\n",
       "    </tr>\n",
       "  </thead>\n",
       "  <tbody>\n",
       "    <tr>\n",
       "      <th>0</th>\n",
       "      <td>500061</td>\n",
       "      <td>t</td>\n",
       "      <td>78606010616880715</td>\n",
       "      <td>720575940627820343</td>\n",
       "      <td>78606010616885784</td>\n",
       "      <td>720575940627820343</td>\n",
       "      <td>73.652267</td>\n",
       "      <td>0</td>\n",
       "      <td>0.061236</td>\n",
       "      <td>0.057291</td>\n",
       "      <td>1.885368e-02</td>\n",
       "      <td>0.004941</td>\n",
       "      <td>0.463699</td>\n",
       "      <td>0.393978</td>\n",
       "      <td>t</td>\n",
       "      <td>[463832, 269164, 75320]</td>\n",
       "      <td>[463944, 269104, 75320]</td>\n",
       "    </tr>\n",
       "    <tr>\n",
       "      <th>1</th>\n",
       "      <td>500123</td>\n",
       "      <td>t</td>\n",
       "      <td>82194816569875334</td>\n",
       "      <td>720575940611969366</td>\n",
       "      <td>82194816569876563</td>\n",
       "      <td>720575940614396021</td>\n",
       "      <td>372.543762</td>\n",
       "      <td>129</td>\n",
       "      <td>0.015839</td>\n",
       "      <td>0.197263</td>\n",
       "      <td>1.752463e-02</td>\n",
       "      <td>0.000123</td>\n",
       "      <td>0.331374</td>\n",
       "      <td>0.437876</td>\n",
       "      <td>t</td>\n",
       "      <td>[674196, 269084, 74080]</td>\n",
       "      <td>[674212, 269196, 74040]</td>\n",
       "    </tr>\n",
       "    <tr>\n",
       "      <th>2</th>\n",
       "      <td>520</td>\n",
       "      <td>t</td>\n",
       "      <td>82686985462268338</td>\n",
       "      <td>720575940632481933</td>\n",
       "      <td>82686985462269565</td>\n",
       "      <td>720575940615229806</td>\n",
       "      <td>611.586121</td>\n",
       "      <td>143</td>\n",
       "      <td>0.002861</td>\n",
       "      <td>0.914896</td>\n",
       "      <td>8.416596e-05</td>\n",
       "      <td>0.000317</td>\n",
       "      <td>0.000054</td>\n",
       "      <td>0.081788</td>\n",
       "      <td>t</td>\n",
       "      <td>[700272, 245104, 74320]</td>\n",
       "      <td>[700280, 245004, 74280]</td>\n",
       "    </tr>\n",
       "    <tr>\n",
       "      <th>3</th>\n",
       "      <td>1000458</td>\n",
       "      <td>t</td>\n",
       "      <td>78182767359664830</td>\n",
       "      <td>720575940617001339</td>\n",
       "      <td>78182767359678728</td>\n",
       "      <td>720575940625126931</td>\n",
       "      <td>16.290222</td>\n",
       "      <td>142</td>\n",
       "      <td>0.000365</td>\n",
       "      <td>0.912595</td>\n",
       "      <td>6.038809e-07</td>\n",
       "      <td>0.000009</td>\n",
       "      <td>0.000018</td>\n",
       "      <td>0.087012</td>\n",
       "      <td>t</td>\n",
       "      <td>[439840, 210096, 75480]</td>\n",
       "      <td>[439832, 210208, 75400]</td>\n",
       "    </tr>\n",
       "    <tr>\n",
       "      <th>4</th>\n",
       "      <td>500755</td>\n",
       "      <td>t</td>\n",
       "      <td>81983710337347499</td>\n",
       "      <td>720575940612267518</td>\n",
       "      <td>81983710337346325</td>\n",
       "      <td>720575940597072847</td>\n",
       "      <td>242.144440</td>\n",
       "      <td>143</td>\n",
       "      <td>0.002634</td>\n",
       "      <td>0.934998</td>\n",
       "      <td>5.801082e-02</td>\n",
       "      <td>0.000031</td>\n",
       "      <td>0.000619</td>\n",
       "      <td>0.003707</td>\n",
       "      <td>t</td>\n",
       "      <td>[661648, 271776, 74040]</td>\n",
       "      <td>[661632, 271892, 74040]</td>\n",
       "    </tr>\n",
       "  </tbody>\n",
       "</table>\n",
       "</div>"
      ],
      "text/plain": [
       "        id valid  pre_pt_supervoxel_id      pre_pt_root_id  \\\n",
       "0   500061     t     78606010616880715  720575940627820343   \n",
       "1   500123     t     82194816569875334  720575940611969366   \n",
       "2      520     t     82686985462268338  720575940632481933   \n",
       "3  1000458     t     78182767359664830  720575940617001339   \n",
       "4   500755     t     81983710337347499  720575940612267518   \n",
       "\n",
       "   post_pt_supervoxel_id     post_pt_root_id  connection_score  cleft_score  \\\n",
       "0      78606010616885784  720575940627820343         73.652267            0   \n",
       "1      82194816569876563  720575940614396021        372.543762          129   \n",
       "2      82686985462269565  720575940615229806        611.586121          143   \n",
       "3      78182767359678728  720575940625126931         16.290222          142   \n",
       "4      81983710337346325  720575940597072847        242.144440          143   \n",
       "\n",
       "       gaba       ach          glut       oct       ser        da valid_nt  \\\n",
       "0  0.061236  0.057291  1.885368e-02  0.004941  0.463699  0.393978        t   \n",
       "1  0.015839  0.197263  1.752463e-02  0.000123  0.331374  0.437876        t   \n",
       "2  0.002861  0.914896  8.416596e-05  0.000317  0.000054  0.081788        t   \n",
       "3  0.000365  0.912595  6.038809e-07  0.000009  0.000018  0.087012        t   \n",
       "4  0.002634  0.934998  5.801082e-02  0.000031  0.000619  0.003707        t   \n",
       "\n",
       "           pre_pt_position         post_pt_position  \n",
       "0  [463832, 269164, 75320]  [463944, 269104, 75320]  \n",
       "1  [674196, 269084, 74080]  [674212, 269196, 74040]  \n",
       "2  [700272, 245104, 74320]  [700280, 245004, 74280]  \n",
       "3  [439840, 210096, 75480]  [439832, 210208, 75400]  \n",
       "4  [661648, 271776, 74040]  [661632, 271892, 74040]  "
      ]
     },
     "execution_count": 13,
     "metadata": {},
     "output_type": "execute_result"
    }
   ],
   "source": [
    "syn_df.head()"
   ]
  },
  {
   "cell_type": "markdown",
   "metadata": {},
   "source": [
    "Annotations consist of parameters and spatial points. Some or all of these spatial points are what we call \"BoundSpatialPoints\". These are linked to the segmentation during materialization. The synapse tables have two such points (`pre_pt`, `post_pt`). Per point there are three columns: `*_position`, `*_supervoxel_id`, `*_root_id`. Supervoxels are the small atomic segments, and root ids describe large components (neurons) consisting of many supervoxels. A root id always refers to the same version of a neuron and represents a snapshot in time in its own right. For a given annotation id (`id`), all but the `*_root_id` columns stay constant between materializations. "
   ]
  },
  {
   "cell_type": "markdown",
   "metadata": {},
   "source": [
    "`query_table` has three parameters to define filters: filter_in_dict, filter_out_dict, filter_equal_dict. More options will be added. This can be used to query synapses between any lists of neurons. For instance, to query the outgoing synapses of an AMMC-B1 neuron we included in the FlyWire paper:\n",
    "(see the next section for how to come up with a specific root id)"
   ]
  },
  {
   "cell_type": "code",
   "execution_count": 14,
   "metadata": {},
   "outputs": [
    {
     "name": "stdout",
     "output_type": "stream",
     "text": [
      "CPU times: user 40 ms, sys: 6.5 ms, total: 46.5 ms\n",
      "Wall time: 5.83 s\n"
     ]
    }
   ],
   "source": [
    "%%time\n",
    "\n",
    "syn_df = client.materialize.query_table(synapse_table, \n",
    "                                        filter_in_dict={\"pre_pt_root_id\": [720575940627197566]})"
   ]
  },
  {
   "cell_type": "markdown",
   "metadata": {},
   "source": [
    "As described in the metadata above, we suggest filtering the synapse table using the `cleft_score` and `connection_score`. Tuning these will help to reduce the number of false positive synapses in the list. The best threshold(s) will depend on the specific neurons included in the analysis. Here we will just remove all synapses with a `cleft_score < 50`."
   ]
  },
  {
   "cell_type": "code",
   "execution_count": 15,
   "metadata": {},
   "outputs": [],
   "source": [
    "syn_df = syn_df[syn_df[\"cleft_score\"] >= 50]"
   ]
  },
  {
   "cell_type": "markdown",
   "metadata": {},
   "source": [
    "Some postsynaptic partners have a 0 id. Many of these are due to the synapse prediction covering a bigger space than the segmentation. Here, we remove these along with synapses onto itself as we are confident that this cell does not make autapses."
   ]
  },
  {
   "cell_type": "code",
   "execution_count": 16,
   "metadata": {},
   "outputs": [],
   "source": [
    "syn_df = syn_df[syn_df[\"pre_pt_root_id\"] != syn_df[\"post_pt_root_id\"]]\n",
    "syn_df = syn_df[syn_df[\"post_pt_root_id\"] != 0]"
   ]
  },
  {
   "cell_type": "markdown",
   "metadata": {},
   "source": [
    "This synapse table comes with neurotransmitter prediction from the work of Eckstein et al.. Please review the description in the metadata to understand the caveats of this data with regards your analysis. Here, we just look at the mean of the probablities of all outgoing synapses which shows that this neuron's neurotransmitter is very likely acetylcholine."
   ]
  },
  {
   "cell_type": "code",
   "execution_count": 17,
   "metadata": {},
   "outputs": [
    {
     "data": {
      "text/plain": [
       "gaba    0.032069\n",
       "ach     0.835793\n",
       "glut    0.041500\n",
       "oct     0.005178\n",
       "ser     0.021450\n",
       "da      0.064010\n",
       "dtype: float64"
      ]
     },
     "execution_count": 17,
     "metadata": {},
     "output_type": "execute_result"
    }
   ],
   "source": [
    "np.mean(syn_df[[\"gaba\", \"ach\", \"glut\", \"oct\", \"ser\", \"da\"]])"
   ]
  },
  {
   "cell_type": "markdown",
   "metadata": {},
   "source": [
    "Here we take a brief look at the postsynaptic partners and sorting them by number of synapses; displaying the top 10:"
   ]
  },
  {
   "cell_type": "code",
   "execution_count": 18,
   "metadata": {},
   "outputs": [
    {
     "data": {
      "text/plain": [
       "[(720575940612001489, 96),\n",
       " (720575940639811469, 92),\n",
       " (720575940606297353, 88),\n",
       " (720575940615361748, 86),\n",
       " (720575940621893127, 84),\n",
       " (720575940621301738, 80),\n",
       " (720575940626312778, 73),\n",
       " (720575940625492753, 71),\n",
       " (720575940623903434, 65),\n",
       " (720575940618489734, 64)]"
      ]
     },
     "execution_count": 18,
     "metadata": {},
     "output_type": "execute_result"
    }
   ],
   "source": [
    "u_post_root_ids, c_post_root_ids = np.unique(syn_df[\"post_pt_root_id\"], return_counts=True)\n",
    "\n",
    "sorting = np.argsort(c_post_root_ids)[::-1][:10]\n",
    "list(zip(u_post_root_ids[sorting], c_post_root_ids[sorting]))"
   ]
  },
  {
   "cell_type": "markdown",
   "metadata": {},
   "source": [
    "The main target is an AMMC-A1 (720575940613535430) which is a connection we described in Figure 6 in the FlyWire paper.\n",
    "\n",
    "We can further restrict the query by filtering the postsynaptic targets. For instance this query will only return the synapses between the these two root ids."
   ]
  },
  {
   "cell_type": "code",
   "execution_count": 19,
   "metadata": {},
   "outputs": [
    {
     "data": {
      "text/html": [
       "<div>\n",
       "<style scoped>\n",
       "    .dataframe tbody tr th:only-of-type {\n",
       "        vertical-align: middle;\n",
       "    }\n",
       "\n",
       "    .dataframe tbody tr th {\n",
       "        vertical-align: top;\n",
       "    }\n",
       "\n",
       "    .dataframe thead th {\n",
       "        text-align: right;\n",
       "    }\n",
       "</style>\n",
       "<table border=\"1\" class=\"dataframe\">\n",
       "  <thead>\n",
       "    <tr style=\"text-align: right;\">\n",
       "      <th></th>\n",
       "      <th>id</th>\n",
       "      <th>valid</th>\n",
       "      <th>pre_pt_supervoxel_id</th>\n",
       "      <th>pre_pt_root_id</th>\n",
       "      <th>post_pt_supervoxel_id</th>\n",
       "      <th>post_pt_root_id</th>\n",
       "      <th>connection_score</th>\n",
       "      <th>cleft_score</th>\n",
       "      <th>gaba</th>\n",
       "      <th>ach</th>\n",
       "      <th>glut</th>\n",
       "      <th>oct</th>\n",
       "      <th>ser</th>\n",
       "      <th>da</th>\n",
       "      <th>valid_nt</th>\n",
       "      <th>pre_pt_position</th>\n",
       "      <th>post_pt_position</th>\n",
       "    </tr>\n",
       "  </thead>\n",
       "  <tbody>\n",
       "    <tr>\n",
       "      <th>0</th>\n",
       "      <td>211365569</td>\n",
       "      <td>t</td>\n",
       "      <td>77832229442872849</td>\n",
       "      <td>720575940627197566</td>\n",
       "      <td>77832229442883229</td>\n",
       "      <td>720575940612001489</td>\n",
       "      <td>52.161354</td>\n",
       "      <td>100</td>\n",
       "      <td>0.050798</td>\n",
       "      <td>0.706145</td>\n",
       "      <td>0.103963</td>\n",
       "      <td>0.020856</td>\n",
       "      <td>0.007026</td>\n",
       "      <td>0.111212</td>\n",
       "      <td>t</td>\n",
       "      <td>[418808, 286736, 110840]</td>\n",
       "      <td>[418760, 286616, 110880]</td>\n",
       "    </tr>\n",
       "    <tr>\n",
       "      <th>1</th>\n",
       "      <td>217890780</td>\n",
       "      <td>t</td>\n",
       "      <td>77691423235424395</td>\n",
       "      <td>720575940627197566</td>\n",
       "      <td>77691423235425756</td>\n",
       "      <td>720575940612001489</td>\n",
       "      <td>102.692398</td>\n",
       "      <td>145</td>\n",
       "      <td>0.004396</td>\n",
       "      <td>0.970069</td>\n",
       "      <td>0.000883</td>\n",
       "      <td>0.000840</td>\n",
       "      <td>0.000148</td>\n",
       "      <td>0.023665</td>\n",
       "      <td>t</td>\n",
       "      <td>[412236, 283056, 121640]</td>\n",
       "      <td>[412208, 283148, 121680]</td>\n",
       "    </tr>\n",
       "    <tr>\n",
       "      <th>2</th>\n",
       "      <td>6180240</td>\n",
       "      <td>t</td>\n",
       "      <td>77761173637894262</td>\n",
       "      <td>720575940627197566</td>\n",
       "      <td>77761173637888123</td>\n",
       "      <td>720575940612001489</td>\n",
       "      <td>227.389908</td>\n",
       "      <td>158</td>\n",
       "      <td>0.011852</td>\n",
       "      <td>0.966436</td>\n",
       "      <td>0.005491</td>\n",
       "      <td>0.002103</td>\n",
       "      <td>0.000580</td>\n",
       "      <td>0.013538</td>\n",
       "      <td>t</td>\n",
       "      <td>[414292, 245008, 144520]</td>\n",
       "      <td>[414160, 245016, 144520]</td>\n",
       "    </tr>\n",
       "    <tr>\n",
       "      <th>3</th>\n",
       "      <td>51374154</td>\n",
       "      <td>t</td>\n",
       "      <td>77691285729116258</td>\n",
       "      <td>720575940627197566</td>\n",
       "      <td>77691285729100925</td>\n",
       "      <td>720575940612001489</td>\n",
       "      <td>111.818047</td>\n",
       "      <td>132</td>\n",
       "      <td>0.008370</td>\n",
       "      <td>0.705035</td>\n",
       "      <td>0.009202</td>\n",
       "      <td>0.000005</td>\n",
       "      <td>0.272142</td>\n",
       "      <td>0.005246</td>\n",
       "      <td>t</td>\n",
       "      <td>[409856, 274840, 93040]</td>\n",
       "      <td>[409984, 274868, 93040]</td>\n",
       "    </tr>\n",
       "    <tr>\n",
       "      <th>4</th>\n",
       "      <td>237434942</td>\n",
       "      <td>t</td>\n",
       "      <td>77832023284765928</td>\n",
       "      <td>720575940627197566</td>\n",
       "      <td>77832023284771485</td>\n",
       "      <td>720575940612001489</td>\n",
       "      <td>161.775467</td>\n",
       "      <td>141</td>\n",
       "      <td>0.023719</td>\n",
       "      <td>0.890757</td>\n",
       "      <td>0.013778</td>\n",
       "      <td>0.002228</td>\n",
       "      <td>0.019519</td>\n",
       "      <td>0.049999</td>\n",
       "      <td>t</td>\n",
       "      <td>[417900, 272952, 119880]</td>\n",
       "      <td>[417844, 273044, 119880]</td>\n",
       "    </tr>\n",
       "    <tr>\n",
       "      <th>...</th>\n",
       "      <td>...</td>\n",
       "      <td>...</td>\n",
       "      <td>...</td>\n",
       "      <td>...</td>\n",
       "      <td>...</td>\n",
       "      <td>...</td>\n",
       "      <td>...</td>\n",
       "      <td>...</td>\n",
       "      <td>...</td>\n",
       "      <td>...</td>\n",
       "      <td>...</td>\n",
       "      <td>...</td>\n",
       "      <td>...</td>\n",
       "      <td>...</td>\n",
       "      <td>...</td>\n",
       "      <td>...</td>\n",
       "      <td>...</td>\n",
       "    </tr>\n",
       "    <tr>\n",
       "      <th>121</th>\n",
       "      <td>236131087</td>\n",
       "      <td>t</td>\n",
       "      <td>77761585821121562</td>\n",
       "      <td>720575940627197566</td>\n",
       "      <td>77761585821120349</td>\n",
       "      <td>720575940612001489</td>\n",
       "      <td>88.254326</td>\n",
       "      <td>116</td>\n",
       "      <td>0.007150</td>\n",
       "      <td>0.958711</td>\n",
       "      <td>0.001355</td>\n",
       "      <td>0.016179</td>\n",
       "      <td>0.000408</td>\n",
       "      <td>0.016197</td>\n",
       "      <td>t</td>\n",
       "      <td>[414620, 270192, 119680]</td>\n",
       "      <td>[414520, 270216, 119680]</td>\n",
       "    </tr>\n",
       "    <tr>\n",
       "      <th>122</th>\n",
       "      <td>217890770</td>\n",
       "      <td>t</td>\n",
       "      <td>77691423235405859</td>\n",
       "      <td>720575940627197566</td>\n",
       "      <td>77691423235425756</td>\n",
       "      <td>720575940612001489</td>\n",
       "      <td>65.530502</td>\n",
       "      <td>145</td>\n",
       "      <td>0.003493</td>\n",
       "      <td>0.976093</td>\n",
       "      <td>0.000120</td>\n",
       "      <td>0.003406</td>\n",
       "      <td>0.000033</td>\n",
       "      <td>0.016854</td>\n",
       "      <td>t</td>\n",
       "      <td>[412216, 283052, 121600]</td>\n",
       "      <td>[412128, 283092, 121640]</td>\n",
       "    </tr>\n",
       "    <tr>\n",
       "      <th>123</th>\n",
       "      <td>147115465</td>\n",
       "      <td>t</td>\n",
       "      <td>77832023284730175</td>\n",
       "      <td>720575940627197566</td>\n",
       "      <td>77832023284716150</td>\n",
       "      <td>720575940612001489</td>\n",
       "      <td>13.454404</td>\n",
       "      <td>142</td>\n",
       "      <td>0.014081</td>\n",
       "      <td>0.748565</td>\n",
       "      <td>0.001552</td>\n",
       "      <td>0.000199</td>\n",
       "      <td>0.003485</td>\n",
       "      <td>0.232117</td>\n",
       "      <td>t</td>\n",
       "      <td>[419512, 274800, 118480]</td>\n",
       "      <td>[419480, 274656, 118480]</td>\n",
       "    </tr>\n",
       "    <tr>\n",
       "      <th>124</th>\n",
       "      <td>221946020</td>\n",
       "      <td>t</td>\n",
       "      <td>77832160723343355</td>\n",
       "      <td>720575940627197566</td>\n",
       "      <td>77832160723346346</td>\n",
       "      <td>720575940612001489</td>\n",
       "      <td>1038.665283</td>\n",
       "      <td>143</td>\n",
       "      <td>0.048305</td>\n",
       "      <td>0.895462</td>\n",
       "      <td>0.023994</td>\n",
       "      <td>0.006970</td>\n",
       "      <td>0.001213</td>\n",
       "      <td>0.024056</td>\n",
       "      <td>t</td>\n",
       "      <td>[417700, 282552, 108800]</td>\n",
       "      <td>[417580, 282568, 108800]</td>\n",
       "    </tr>\n",
       "    <tr>\n",
       "      <th>125</th>\n",
       "      <td>237435004</td>\n",
       "      <td>t</td>\n",
       "      <td>77832023284778536</td>\n",
       "      <td>720575940627197566</td>\n",
       "      <td>77832023284792016</td>\n",
       "      <td>720575940612001489</td>\n",
       "      <td>91.194901</td>\n",
       "      <td>114</td>\n",
       "      <td>0.056194</td>\n",
       "      <td>0.560103</td>\n",
       "      <td>0.066058</td>\n",
       "      <td>0.014366</td>\n",
       "      <td>0.059227</td>\n",
       "      <td>0.244052</td>\n",
       "      <td>t</td>\n",
       "      <td>[419064, 274020, 120360]</td>\n",
       "      <td>[419164, 273968, 120400]</td>\n",
       "    </tr>\n",
       "  </tbody>\n",
       "</table>\n",
       "<p>96 rows × 17 columns</p>\n",
       "</div>"
      ],
      "text/plain": [
       "            id valid  pre_pt_supervoxel_id      pre_pt_root_id  \\\n",
       "0    211365569     t     77832229442872849  720575940627197566   \n",
       "1    217890780     t     77691423235424395  720575940627197566   \n",
       "2      6180240     t     77761173637894262  720575940627197566   \n",
       "3     51374154     t     77691285729116258  720575940627197566   \n",
       "4    237434942     t     77832023284765928  720575940627197566   \n",
       "..         ...   ...                   ...                 ...   \n",
       "121  236131087     t     77761585821121562  720575940627197566   \n",
       "122  217890770     t     77691423235405859  720575940627197566   \n",
       "123  147115465     t     77832023284730175  720575940627197566   \n",
       "124  221946020     t     77832160723343355  720575940627197566   \n",
       "125  237435004     t     77832023284778536  720575940627197566   \n",
       "\n",
       "     post_pt_supervoxel_id     post_pt_root_id  connection_score  cleft_score  \\\n",
       "0        77832229442883229  720575940612001489         52.161354          100   \n",
       "1        77691423235425756  720575940612001489        102.692398          145   \n",
       "2        77761173637888123  720575940612001489        227.389908          158   \n",
       "3        77691285729100925  720575940612001489        111.818047          132   \n",
       "4        77832023284771485  720575940612001489        161.775467          141   \n",
       "..                     ...                 ...               ...          ...   \n",
       "121      77761585821120349  720575940612001489         88.254326          116   \n",
       "122      77691423235425756  720575940612001489         65.530502          145   \n",
       "123      77832023284716150  720575940612001489         13.454404          142   \n",
       "124      77832160723346346  720575940612001489       1038.665283          143   \n",
       "125      77832023284792016  720575940612001489         91.194901          114   \n",
       "\n",
       "         gaba       ach      glut       oct       ser        da valid_nt  \\\n",
       "0    0.050798  0.706145  0.103963  0.020856  0.007026  0.111212        t   \n",
       "1    0.004396  0.970069  0.000883  0.000840  0.000148  0.023665        t   \n",
       "2    0.011852  0.966436  0.005491  0.002103  0.000580  0.013538        t   \n",
       "3    0.008370  0.705035  0.009202  0.000005  0.272142  0.005246        t   \n",
       "4    0.023719  0.890757  0.013778  0.002228  0.019519  0.049999        t   \n",
       "..        ...       ...       ...       ...       ...       ...      ...   \n",
       "121  0.007150  0.958711  0.001355  0.016179  0.000408  0.016197        t   \n",
       "122  0.003493  0.976093  0.000120  0.003406  0.000033  0.016854        t   \n",
       "123  0.014081  0.748565  0.001552  0.000199  0.003485  0.232117        t   \n",
       "124  0.048305  0.895462  0.023994  0.006970  0.001213  0.024056        t   \n",
       "125  0.056194  0.560103  0.066058  0.014366  0.059227  0.244052        t   \n",
       "\n",
       "              pre_pt_position          post_pt_position  \n",
       "0    [418808, 286736, 110840]  [418760, 286616, 110880]  \n",
       "1    [412236, 283056, 121640]  [412208, 283148, 121680]  \n",
       "2    [414292, 245008, 144520]  [414160, 245016, 144520]  \n",
       "3     [409856, 274840, 93040]   [409984, 274868, 93040]  \n",
       "4    [417900, 272952, 119880]  [417844, 273044, 119880]  \n",
       "..                        ...                       ...  \n",
       "121  [414620, 270192, 119680]  [414520, 270216, 119680]  \n",
       "122  [412216, 283052, 121600]  [412128, 283092, 121640]  \n",
       "123  [419512, 274800, 118480]  [419480, 274656, 118480]  \n",
       "124  [417700, 282552, 108800]  [417580, 282568, 108800]  \n",
       "125  [419064, 274020, 120360]  [419164, 273968, 120400]  \n",
       "\n",
       "[96 rows x 17 columns]"
      ]
     },
     "execution_count": 19,
     "metadata": {},
     "output_type": "execute_result"
    }
   ],
   "source": [
    "syn_df = client.materialize.query_table(synapse_table, \n",
    "                                        filter_in_dict={\"pre_pt_root_id\": [720575940627197566],\n",
    "                                                        \"post_pt_root_id\": [720575940612001489]})\n",
    "syn_df = syn_df[syn_df[\"cleft_score\"] >= 50]\n",
    "\n",
    "syn_df"
   ]
  },
  {
   "cell_type": "markdown",
   "metadata": {},
   "source": [
    "## \"Live\" Materialization Queries"
   ]
  },
  {
   "cell_type": "code",
   "execution_count": 23,
   "metadata": {},
   "outputs": [],
   "source": [
    "import networkx as nx"
   ]
  },
  {
   "cell_type": "code",
   "execution_count": 24,
   "metadata": {},
   "outputs": [],
   "source": [
    "g = client.chunkedgraph.get_lineage_graph(720575940645374596)"
   ]
  },
  {
   "cell_type": "code",
   "execution_count": 25,
   "metadata": {},
   "outputs": [],
   "source": [
    "gt = nx.node_link_graph(g)"
   ]
  },
  {
   "cell_type": "code",
   "execution_count": 27,
   "metadata": {},
   "outputs": [
    {
     "data": {
      "text/plain": [
       "NodeView((720575940645374596, 720575940606531081, 720575940621404710, 720575940637186126, 720575940637309117, 720575940626814031, 720575940627185911))"
      ]
     },
     "execution_count": 27,
     "metadata": {},
     "output_type": "execute_result"
    }
   ],
   "source": []
  },
  {
   "cell_type": "code",
   "execution_count": 72,
   "metadata": {},
   "outputs": [
    {
     "ename": "ValueError",
     "evalue": "[720575940645374596] are not valid rootIDs at timestamp= 2021-06-04 01:02:07.913412, \n                                use chunkedgraph client to query lineage graph to find new ID(s)",
     "output_type": "error",
     "traceback": [
      "\u001b[0;31m---------------------------------------------------------------------------\u001b[0m",
      "\u001b[0;31mValueError\u001b[0m                                Traceback (most recent call last)",
      "\u001b[0;32m<timed exec>\u001b[0m in \u001b[0;36m<module>\u001b[0;34m\u001b[0m\n",
      "\u001b[0;32m~/AnnotationFrameworkClient/annotationframeworkclient/materializationengine.py\u001b[0m in \u001b[0;36mlive_query\u001b[0;34m(self, table, timestamp, filter_in_dict, filter_out_dict, filter_equal_dict, filter_spatial, join_args, select_columns, offset, limit, datastack_name, split_positions, post_filter)\u001b[0m\n\u001b[1;32m    772\u001b[0m         \u001b[0;31m# most recent materialization\u001b[0m\u001b[0;34m\u001b[0m\u001b[0;34m\u001b[0m\u001b[0;34m\u001b[0m\u001b[0m\n\u001b[1;32m    773\u001b[0m         \u001b[0;32mwith\u001b[0m \u001b[0mTimeIt\u001b[0m\u001b[0;34m(\u001b[0m\u001b[0;34m'map_filters'\u001b[0m\u001b[0;34m)\u001b[0m\u001b[0;34m:\u001b[0m\u001b[0;34m\u001b[0m\u001b[0;34m\u001b[0m\u001b[0m\n\u001b[0;32m--> 774\u001b[0;31m             past_filters, future_map = self.map_filters([filter_in_dict,\n\u001b[0m\u001b[1;32m    775\u001b[0m                                                          \u001b[0mfilter_out_dict\u001b[0m\u001b[0;34m,\u001b[0m\u001b[0;34m\u001b[0m\u001b[0;34m\u001b[0m\u001b[0m\n\u001b[1;32m    776\u001b[0m                                                          filter_equal_dict],\n",
      "\u001b[0;32m~/AnnotationFrameworkClient/annotationframeworkclient/materializationengine.py\u001b[0m in \u001b[0;36mmap_filters\u001b[0;34m(self, filters, timestamp, timestamp_past)\u001b[0m\n\u001b[1;32m    601\u001b[0m         \u001b[0;32mif\u001b[0m \u001b[0;32mnot\u001b[0m \u001b[0mnp\u001b[0m\u001b[0;34m.\u001b[0m\u001b[0mall\u001b[0m\u001b[0;34m(\u001b[0m\u001b[0mfilter_vals_latest\u001b[0m\u001b[0;34m)\u001b[0m\u001b[0;34m:\u001b[0m\u001b[0;34m\u001b[0m\u001b[0;34m\u001b[0m\u001b[0m\n\u001b[1;32m    602\u001b[0m             \u001b[0mnot_latest\u001b[0m \u001b[0;34m=\u001b[0m \u001b[0mvals\u001b[0m\u001b[0;34m[\u001b[0m\u001b[0;34m~\u001b[0m\u001b[0mfilter_vals_latest\u001b[0m\u001b[0;34m]\u001b[0m\u001b[0;34m\u001b[0m\u001b[0;34m\u001b[0m\u001b[0m\n\u001b[0;32m--> 603\u001b[0;31m             raise ValueError(f'''{not_latest} are not valid rootIDs at timestamp= {timestamp}, \n\u001b[0m\u001b[1;32m    604\u001b[0m                                 use chunkedgraph client to query lineage graph to find new ID(s)''')\n\u001b[1;32m    605\u001b[0m         id_mapping = self.cg_client.get_past_ids(vals, \n",
      "\u001b[0;31mValueError\u001b[0m: [720575940645374596] are not valid rootIDs at timestamp= 2021-06-04 01:02:07.913412, \n                                use chunkedgraph client to query lineage graph to find new ID(s)"
     ]
    }
   ],
   "source": [
    "%%time \n",
    "\n",
    "syn_df = client.materialize.live_query(synapse_table, \n",
    "                                       filter_in_dict={\"pre_pt_root_id\": [720575940645374596]},\n",
    "                                       timestamp=datetime.datetime.utcnow())\n",
    "\n",
    "syn_df = syn_df[syn_df[\"cleft_score\"] >= 50]\n",
    "\n",
    "syn_df"
   ]
  },
  {
   "cell_type": "code",
   "execution_count": 63,
   "metadata": {},
   "outputs": [
    {
     "name": "stdout",
     "output_type": "stream",
     "text": [
      "CPU times: user 30 ms, sys: 628 µs, total: 30.6 ms\n",
      "Wall time: 927 ms\n"
     ]
    },
    {
     "data": {
      "text/html": [
       "<div>\n",
       "<style scoped>\n",
       "    .dataframe tbody tr th:only-of-type {\n",
       "        vertical-align: middle;\n",
       "    }\n",
       "\n",
       "    .dataframe tbody tr th {\n",
       "        vertical-align: top;\n",
       "    }\n",
       "\n",
       "    .dataframe thead th {\n",
       "        text-align: right;\n",
       "    }\n",
       "</style>\n",
       "<table border=\"1\" class=\"dataframe\">\n",
       "  <thead>\n",
       "    <tr style=\"text-align: right;\">\n",
       "      <th></th>\n",
       "      <th>id</th>\n",
       "      <th>valid</th>\n",
       "      <th>pre_pt_supervoxel_id</th>\n",
       "      <th>pre_pt_root_id</th>\n",
       "      <th>post_pt_supervoxel_id</th>\n",
       "      <th>post_pt_root_id</th>\n",
       "      <th>connection_score</th>\n",
       "      <th>cleft_score</th>\n",
       "      <th>gaba</th>\n",
       "      <th>ach</th>\n",
       "      <th>glut</th>\n",
       "      <th>oct</th>\n",
       "      <th>ser</th>\n",
       "      <th>da</th>\n",
       "      <th>valid_nt</th>\n",
       "      <th>pre_pt_position</th>\n",
       "      <th>post_pt_position</th>\n",
       "    </tr>\n",
       "  </thead>\n",
       "  <tbody>\n",
       "    <tr>\n",
       "      <th>0</th>\n",
       "      <td>6162631</td>\n",
       "      <td>t</td>\n",
       "      <td>77761104918444158</td>\n",
       "      <td>720575940627197566</td>\n",
       "      <td>77761104918444188</td>\n",
       "      <td>720575940612001489</td>\n",
       "      <td>326.542755</td>\n",
       "      <td>102</td>\n",
       "      <td>0.147903</td>\n",
       "      <td>0.462820</td>\n",
       "      <td>0.375533</td>\n",
       "      <td>0.005401</td>\n",
       "      <td>0.001151</td>\n",
       "      <td>0.007191</td>\n",
       "      <td>t</td>\n",
       "      <td>[414712, 243344, 145120]</td>\n",
       "      <td>[414600, 243276, 145120]</td>\n",
       "    </tr>\n",
       "    <tr>\n",
       "      <th>1</th>\n",
       "      <td>6180240</td>\n",
       "      <td>t</td>\n",
       "      <td>77761173637894262</td>\n",
       "      <td>720575940627197566</td>\n",
       "      <td>77761173637888123</td>\n",
       "      <td>720575940612001489</td>\n",
       "      <td>227.389908</td>\n",
       "      <td>158</td>\n",
       "      <td>0.011852</td>\n",
       "      <td>0.966436</td>\n",
       "      <td>0.005491</td>\n",
       "      <td>0.002103</td>\n",
       "      <td>0.000580</td>\n",
       "      <td>0.013538</td>\n",
       "      <td>t</td>\n",
       "      <td>[414292, 245008, 144520]</td>\n",
       "      <td>[414160, 245016, 144520]</td>\n",
       "    </tr>\n",
       "    <tr>\n",
       "      <th>3</th>\n",
       "      <td>8180655</td>\n",
       "      <td>t</td>\n",
       "      <td>77761173637907153</td>\n",
       "      <td>720575940627197566</td>\n",
       "      <td>77761173637915205</td>\n",
       "      <td>720575940612001489</td>\n",
       "      <td>49.321461</td>\n",
       "      <td>176</td>\n",
       "      <td>0.016921</td>\n",
       "      <td>0.900563</td>\n",
       "      <td>0.015684</td>\n",
       "      <td>0.001348</td>\n",
       "      <td>0.005939</td>\n",
       "      <td>0.059545</td>\n",
       "      <td>t</td>\n",
       "      <td>[415680, 247148, 144920]</td>\n",
       "      <td>[415632, 247108, 145040]</td>\n",
       "    </tr>\n",
       "    <tr>\n",
       "      <th>4</th>\n",
       "      <td>40964236</td>\n",
       "      <td>t</td>\n",
       "      <td>77691492021634849</td>\n",
       "      <td>720575940627197566</td>\n",
       "      <td>77691492021615097</td>\n",
       "      <td>720575940612001489</td>\n",
       "      <td>7.644144</td>\n",
       "      <td>62</td>\n",
       "      <td>0.024671</td>\n",
       "      <td>0.912242</td>\n",
       "      <td>0.009162</td>\n",
       "      <td>0.000161</td>\n",
       "      <td>0.018725</td>\n",
       "      <td>0.035040</td>\n",
       "      <td>t</td>\n",
       "      <td>[412888, 286088, 130840]</td>\n",
       "      <td>[412960, 286024, 130840]</td>\n",
       "    </tr>\n",
       "    <tr>\n",
       "      <th>5</th>\n",
       "      <td>51374115</td>\n",
       "      <td>t</td>\n",
       "      <td>77691285729051546</td>\n",
       "      <td>720575940627197566</td>\n",
       "      <td>77691285729087258</td>\n",
       "      <td>720575940612001489</td>\n",
       "      <td>167.695801</td>\n",
       "      <td>106</td>\n",
       "      <td>0.025043</td>\n",
       "      <td>0.350947</td>\n",
       "      <td>0.025653</td>\n",
       "      <td>0.002037</td>\n",
       "      <td>0.509739</td>\n",
       "      <td>0.086582</td>\n",
       "      <td>t</td>\n",
       "      <td>[410048, 275336, 92480]</td>\n",
       "      <td>[410000, 275244, 92520]</td>\n",
       "    </tr>\n",
       "    <tr>\n",
       "      <th>...</th>\n",
       "      <td>...</td>\n",
       "      <td>...</td>\n",
       "      <td>...</td>\n",
       "      <td>...</td>\n",
       "      <td>...</td>\n",
       "      <td>...</td>\n",
       "      <td>...</td>\n",
       "      <td>...</td>\n",
       "      <td>...</td>\n",
       "      <td>...</td>\n",
       "      <td>...</td>\n",
       "      <td>...</td>\n",
       "      <td>...</td>\n",
       "      <td>...</td>\n",
       "      <td>...</td>\n",
       "      <td>...</td>\n",
       "      <td>...</td>\n",
       "    </tr>\n",
       "    <tr>\n",
       "      <th>121</th>\n",
       "      <td>236982393</td>\n",
       "      <td>t</td>\n",
       "      <td>77761585821126507</td>\n",
       "      <td>720575940627197566</td>\n",
       "      <td>77761585821131453</td>\n",
       "      <td>720575940612001489</td>\n",
       "      <td>476.344971</td>\n",
       "      <td>145</td>\n",
       "      <td>0.009036</td>\n",
       "      <td>0.962195</td>\n",
       "      <td>0.000537</td>\n",
       "      <td>0.000177</td>\n",
       "      <td>0.001508</td>\n",
       "      <td>0.026548</td>\n",
       "      <td>t</td>\n",
       "      <td>[415872, 269404, 120080]</td>\n",
       "      <td>[415864, 269284, 120040]</td>\n",
       "    </tr>\n",
       "    <tr>\n",
       "      <th>122</th>\n",
       "      <td>237434920</td>\n",
       "      <td>t</td>\n",
       "      <td>77832023284777092</td>\n",
       "      <td>720575940627197566</td>\n",
       "      <td>77832023284775770</td>\n",
       "      <td>720575940612001489</td>\n",
       "      <td>58.748398</td>\n",
       "      <td>144</td>\n",
       "      <td>0.032626</td>\n",
       "      <td>0.951942</td>\n",
       "      <td>0.001326</td>\n",
       "      <td>0.000276</td>\n",
       "      <td>0.000651</td>\n",
       "      <td>0.013178</td>\n",
       "      <td>t</td>\n",
       "      <td>[418172, 273748, 119600]</td>\n",
       "      <td>[418084, 273656, 119560]</td>\n",
       "    </tr>\n",
       "    <tr>\n",
       "      <th>123</th>\n",
       "      <td>237434941</td>\n",
       "      <td>t</td>\n",
       "      <td>77831954565287519</td>\n",
       "      <td>720575940627197566</td>\n",
       "      <td>77831954565292946</td>\n",
       "      <td>720575940612001489</td>\n",
       "      <td>37.415009</td>\n",
       "      <td>145</td>\n",
       "      <td>0.013553</td>\n",
       "      <td>0.776630</td>\n",
       "      <td>0.010634</td>\n",
       "      <td>0.002239</td>\n",
       "      <td>0.005292</td>\n",
       "      <td>0.191653</td>\n",
       "      <td>t</td>\n",
       "      <td>[417720, 272816, 119840]</td>\n",
       "      <td>[417708, 272892, 119880]</td>\n",
       "    </tr>\n",
       "    <tr>\n",
       "      <th>124</th>\n",
       "      <td>237434942</td>\n",
       "      <td>t</td>\n",
       "      <td>77832023284765928</td>\n",
       "      <td>720575940627197566</td>\n",
       "      <td>77832023284771485</td>\n",
       "      <td>720575940612001489</td>\n",
       "      <td>161.775467</td>\n",
       "      <td>141</td>\n",
       "      <td>0.023719</td>\n",
       "      <td>0.890757</td>\n",
       "      <td>0.013778</td>\n",
       "      <td>0.002228</td>\n",
       "      <td>0.019519</td>\n",
       "      <td>0.049999</td>\n",
       "      <td>t</td>\n",
       "      <td>[417900, 272952, 119880]</td>\n",
       "      <td>[417844, 273044, 119880]</td>\n",
       "    </tr>\n",
       "    <tr>\n",
       "      <th>125</th>\n",
       "      <td>237435004</td>\n",
       "      <td>t</td>\n",
       "      <td>77832023284778536</td>\n",
       "      <td>720575940627197566</td>\n",
       "      <td>77832023284792016</td>\n",
       "      <td>720575940612001489</td>\n",
       "      <td>91.194901</td>\n",
       "      <td>114</td>\n",
       "      <td>0.056194</td>\n",
       "      <td>0.560103</td>\n",
       "      <td>0.066058</td>\n",
       "      <td>0.014366</td>\n",
       "      <td>0.059227</td>\n",
       "      <td>0.244052</td>\n",
       "      <td>t</td>\n",
       "      <td>[419064, 274020, 120360]</td>\n",
       "      <td>[419164, 273968, 120400]</td>\n",
       "    </tr>\n",
       "  </tbody>\n",
       "</table>\n",
       "<p>96 rows × 17 columns</p>\n",
       "</div>"
      ],
      "text/plain": [
       "            id valid  pre_pt_supervoxel_id      pre_pt_root_id  \\\n",
       "0      6162631     t     77761104918444158  720575940627197566   \n",
       "1      6180240     t     77761173637894262  720575940627197566   \n",
       "3      8180655     t     77761173637907153  720575940627197566   \n",
       "4     40964236     t     77691492021634849  720575940627197566   \n",
       "5     51374115     t     77691285729051546  720575940627197566   \n",
       "..         ...   ...                   ...                 ...   \n",
       "121  236982393     t     77761585821126507  720575940627197566   \n",
       "122  237434920     t     77832023284777092  720575940627197566   \n",
       "123  237434941     t     77831954565287519  720575940627197566   \n",
       "124  237434942     t     77832023284765928  720575940627197566   \n",
       "125  237435004     t     77832023284778536  720575940627197566   \n",
       "\n",
       "     post_pt_supervoxel_id     post_pt_root_id  connection_score  cleft_score  \\\n",
       "0        77761104918444188  720575940612001489        326.542755          102   \n",
       "1        77761173637888123  720575940612001489        227.389908          158   \n",
       "3        77761173637915205  720575940612001489         49.321461          176   \n",
       "4        77691492021615097  720575940612001489          7.644144           62   \n",
       "5        77691285729087258  720575940612001489        167.695801          106   \n",
       "..                     ...                 ...               ...          ...   \n",
       "121      77761585821131453  720575940612001489        476.344971          145   \n",
       "122      77832023284775770  720575940612001489         58.748398          144   \n",
       "123      77831954565292946  720575940612001489         37.415009          145   \n",
       "124      77832023284771485  720575940612001489        161.775467          141   \n",
       "125      77832023284792016  720575940612001489         91.194901          114   \n",
       "\n",
       "         gaba       ach      glut       oct       ser        da valid_nt  \\\n",
       "0    0.147903  0.462820  0.375533  0.005401  0.001151  0.007191        t   \n",
       "1    0.011852  0.966436  0.005491  0.002103  0.000580  0.013538        t   \n",
       "3    0.016921  0.900563  0.015684  0.001348  0.005939  0.059545        t   \n",
       "4    0.024671  0.912242  0.009162  0.000161  0.018725  0.035040        t   \n",
       "5    0.025043  0.350947  0.025653  0.002037  0.509739  0.086582        t   \n",
       "..        ...       ...       ...       ...       ...       ...      ...   \n",
       "121  0.009036  0.962195  0.000537  0.000177  0.001508  0.026548        t   \n",
       "122  0.032626  0.951942  0.001326  0.000276  0.000651  0.013178        t   \n",
       "123  0.013553  0.776630  0.010634  0.002239  0.005292  0.191653        t   \n",
       "124  0.023719  0.890757  0.013778  0.002228  0.019519  0.049999        t   \n",
       "125  0.056194  0.560103  0.066058  0.014366  0.059227  0.244052        t   \n",
       "\n",
       "              pre_pt_position          post_pt_position  \n",
       "0    [414712, 243344, 145120]  [414600, 243276, 145120]  \n",
       "1    [414292, 245008, 144520]  [414160, 245016, 144520]  \n",
       "3    [415680, 247148, 144920]  [415632, 247108, 145040]  \n",
       "4    [412888, 286088, 130840]  [412960, 286024, 130840]  \n",
       "5     [410048, 275336, 92480]   [410000, 275244, 92520]  \n",
       "..                        ...                       ...  \n",
       "121  [415872, 269404, 120080]  [415864, 269284, 120040]  \n",
       "122  [418172, 273748, 119600]  [418084, 273656, 119560]  \n",
       "123  [417720, 272816, 119840]  [417708, 272892, 119880]  \n",
       "124  [417900, 272952, 119880]  [417844, 273044, 119880]  \n",
       "125  [419064, 274020, 120360]  [419164, 273968, 120400]  \n",
       "\n",
       "[96 rows x 17 columns]"
      ]
     },
     "execution_count": 63,
     "metadata": {},
     "output_type": "execute_result"
    }
   ],
   "source": [
    "%%time \n",
    "\n",
    "syn_df = client.materialize.live_query(synapse_table, \n",
    "                                       filter_in_dict={\"pre_pt_root_id\": [720575940627197566],\n",
    "                                                       \"post_pt_root_id\": [720575940612001489]},\n",
    "                                       timestamp=datetime.datetime.utcnow())\n",
    "\n",
    "syn_df = syn_df[syn_df[\"cleft_score\"] >= 50]\n",
    "\n",
    "syn_df"
   ]
  },
  {
   "cell_type": "markdown",
   "metadata": {},
   "source": [
    "## Retrieving matching root ids\n",
    "\n",
    "Neuroglancer shows the most recent version of the segmentation by default. Neurons that have been updated since a materialized version are not included in a table of that version. To reconcile this, users need to look up root ids for their data with a timestamp. \n",
    "\n",
    "We generally recommend storing annotations as points in space as these can be mapped to root ids easily (that's basically what materialization is). Soon, users will be able to create their own annotation tables and CAVE will provide fitting root ids automatically. Still, use cases will arrive that require a mnual materialization by the user:\n",
    "\n",
    "\n",
    "### Programmatically\n",
    "\n",
    "The client has an interface to the chunkedgraph (see Section 5 in [the related tutorial](https://github.com/seung-lab/AnnotationFrameworkClient/blob/master/FrameworkClientExamples.ipynb) which allows users to query a root id for a given supervoxel id. Supervoxel ids can be retrieved from the segmentation using [cloudvolume](https://github.com/seung-lab/cloud-volume/).\n",
    "\n",
    "\n",
    "### Neuroglancer\n",
    "\n",
    "The segmentation layer has an option under the tab \"graph\" to lock a layer to a specific timestamps. Then, root ids are looked up with this specific timestamp (proofreading is not possible in this mode). Be aware that this mode does not prevent the pasting of root ids from different timestamps into the layer as that circumvents the lookup to the server."
   ]
  },
  {
   "cell_type": "markdown",
   "metadata": {},
   "source": [
    "### Timestamps\n",
    "\n",
    "Timestamps are _always_ UTC. \n",
    "\n",
    "Please be aware that the package or browser you are using might format timestamps in your local timezone. The timestamp for all annotation tables within a materialization are the same:"
   ]
  },
  {
   "cell_type": "code",
   "execution_count": 18,
   "metadata": {},
   "outputs": [
    {
     "data": {
      "text/plain": [
       "{'time_stamp': '2021-03-10T19:07:56.375440',\n",
       " 'version': 15,\n",
       " 'valid': True,\n",
       " 'expires_on': '2021-04-09T19:07:56.375440',\n",
       " 'datastack': 'flywire_fafb_production',\n",
       " 'id': 3}"
      ]
     },
     "execution_count": 18,
     "metadata": {},
     "output_type": "execute_result"
    }
   ],
   "source": [
    "client.materialize.get_version_metadata(15)"
   ]
  },
  {
   "cell_type": "markdown",
   "metadata": {},
   "source": [
    "## Creating neuroglancer links programmatically\n",
    "\n",
    "We are building infrastructure into neuroglancer to display this information there while browsing neurons. Until this is ready, the most convenient way to visualize this information in neuroglancer is to programmatically create neuroglancer state and to upload them to the state server. The links can then be distributed. \n",
    "\n",
    "[NeuroglancerAnnotationUI (nglui)](https://github.com/seung-lab/NeuroglancerAnnotationUI)  makes programmatic creation of neuroglancer states convenient. The [statebuilder examples](https://github.com/seung-lab/NeuroglancerAnnotationUI/blob/master/examples/statebuilder_examples.ipynb) shows how one can directly from dataframes as the one above to neuroglancer states. The [related tutorial on this client](https://github.com/seung-lab/AnnotationFrameworkClient/blob/master/FrameworkClientExamples.ipynb) shows under \"4. JSON Service\" how this client can be used to upload states to the server and to create neuroglancer links.\n"
   ]
  },
  {
   "cell_type": "markdown",
   "metadata": {},
   "source": [
    "## Further references\n",
    "\n",
    "\n",
    "More examples for the usage of CAVE can be found in a related project:\n",
    "\n",
    "https://github.com/AllenInstitute/MicronsBinder\n",
    "\n",
    "A rough overview of the structure of our backend services can be found here:\n",
    "\n",
    "https://github.com/seung-lab/AnnotationPipelineOverview"
   ]
  },
  {
   "cell_type": "markdown",
   "metadata": {},
   "source": [
    "## Credit\n",
    "\n",
    "CAVE is developed at Princeton University and the Allen Institute for Brain Science within the iarpa MICrONs project and the FlyWire project. Main contributors to the design and backend development \n",
    "are Derrick Brittain, Forrest Collman, Sven Dorkenwald, Chris Jordan, Casey Schneider-Mizell\n",
    "\n",
    "A citable publication is in the works. Please contact us if you are interested in using CAVE on another dataset. "
   ]
  }
 ],
 "metadata": {
  "kernelspec": {
   "display_name": "Python 3",
   "language": "python",
   "name": "python3"
  },
  "language_info": {
   "codemirror_mode": {
    "name": "ipython",
    "version": 3
   },
   "file_extension": ".py",
   "mimetype": "text/x-python",
   "name": "python",
   "nbconvert_exporter": "python",
   "pygments_lexer": "ipython3",
   "version": "3.8.5"
  }
 },
 "nbformat": 4,
 "nbformat_minor": 5
}
