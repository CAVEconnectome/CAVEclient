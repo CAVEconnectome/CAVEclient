{
 "cells": [
  {
   "cell_type": "markdown",
   "metadata": {},
   "source": [
    "# The CAVEclient\n",
    "\n",
    "The CAVEclient is a client side library to allow easy interaction with the services within CAVE (connectome annotation versioning engine, also known as Dynamic Annotation Framework), eg. the annotations, stateserver. The github repository is public:\n",
    "https://github.com/seung-lab/CAVEclient\n",
    "\n",
    "The library can be installed directly from the github repository or from the prebuilt versions using pip:\n",
    "```\n",
    "pip install caveclient\n",
    "```\n",
    "\n",
    "\n",
    "## Tutorials\n",
    "\n",
    "This tutorial mainly covers the interactions with the materialized annotation tables. More information and better explanations of the other functionalities of the client can be found in the following tutorial. Please be advised that depending on your permission level you may not be able to execute all queries in this tutorial with the preset parameters as it was written with defaults for iarpa's microns project:\n",
    "https://github.com/seung-lab/CAVEclient/blob/master/CAVEclientExamples.ipynb\n",
    "\n",
    "\n",
    "## Authentication & Authorization\n",
    "\n",
    "If this is your first time to interact with any part of CAVE, chances are you need to setup your local credentials for your FlyWire account first. Please follow the section \"Setting up your credentials\" at the beginning of the tutorial above to do so.\n",
    "\n",
    "You will need to have access to the FlyWire's production dataset to retrieve annotations. Otherwise you will see\n",
    "\n",
    "```HTTPError: 403 Client Error: FORBIDDEN for url```\n",
    "\n",
    "errors upon querying the materialization server."
   ]
  },
  {
   "cell_type": "markdown",
   "metadata": {},
   "source": [
    "## Initialize CAVEclient\n",
    "\n",
    "The CAVEclient is instantiated with a datastack name. A datastack is a set of segmentation, and annotation tables and lives within an aligned volume (the coordinate space). FlyWire's main datastack is `flywire_fafb_production`, the aligned volume is `fafb_seung_alignment_v0` (v14.1). For convenience, there are other defaults set on the datastack level."
   ]
  },
  {
   "cell_type": "code",
   "execution_count": 1,
   "metadata": {},
   "outputs": [],
   "source": [
    "import numpy as np\n",
    "import datetime\n",
    "from caveclient import CAVEclient"
   ]
  },
  {
   "cell_type": "code",
   "execution_count": 2,
   "metadata": {},
   "outputs": [],
   "source": [
    "datastack_name = \"flywire_fafb_production\"\n",
    "client = CAVEclient(datastack_name)"
   ]
  },
  {
   "cell_type": "markdown",
   "metadata": {},
   "source": [
    "## Annotation tables\n",
    "\n",
    "Annotations are represented by points in space and parameters (such as size, type). At specific timepoints, annotations are combined with the (proofread) segmentation to create a materialized version of the annotation table. The AnnotationEngine (`client.annotation`) owns the raw annotations and the Materialization Service (`client.materialize`) owns the materialized versions of these tables. \n",
    "\n",
    "To check what annotation tables are visible to you run"
   ]
  },
  {
   "cell_type": "code",
   "execution_count": 3,
   "metadata": {},
   "outputs": [
    {
     "name": "stdout",
     "output_type": "stream",
     "text": [
      "https://prod.flywire-daf.com/annotation/api/v2/aligned_volume/fafb_seung_alignment_v0/table\n"
     ]
    },
    {
     "data": {
      "text/plain": [
       "['synapses_nt_v1']"
      ]
     },
     "execution_count": 3,
     "metadata": {},
     "output_type": "execute_result"
    }
   ],
   "source": [
    "client.annotation.get_tables()"
   ]
  },
  {
   "cell_type": "markdown",
   "metadata": {},
   "source": [
    "Every table has metadata associated with it which includes information about the owner/creator, a description and a schema that annotations in this table follow. Please review the metadata of any table you might use in the future before using it as it might contain instructions and restrictions for its usage and how to credit it's creators. For instance, the (v1) synapse table (`synapses_nt_v1`) includes an extensive description on all its columns, credits people that created it, contains instructions for citing this resource among others:"
   ]
  },
  {
   "cell_type": "code",
   "execution_count": 4,
   "metadata": {},
   "outputs": [
    {
     "name": "stdout",
     "output_type": "stream",
     "text": [
      "FlyWire synapse description\r\n",
      "Synapse version: 20191211\r\n",
      "NT version: 20201223\r\n",
      "\r\n",
      "Synapses in this table consist of a pre- and a postsynaptic point (in nm), confidence scores, and neurotransmitter information. \r\n",
      "The synapses were predicted by Buhmann et al [1] for the v14 alignment of the FAFB dataset. The FlyWire team remapped these synapses into the v14.1 space used by FlyWire with an accuracy of <64nm (therefore, this is a potential source of error). This version of the Buhmann et al. synapses was trained on the initial training set from the calyx and performance varies across brain areas accordingly.\r\n",
      "Buhmann et al. assigned two scores to their synapses representing different measurements of confidence. The “connection_score” column contains the scores assigned by them during prediction (higher is more confident) and “cleft_score” contains the scores acquired by Buhmann et al. by using the synapse segmentation from Heinrich et al. [2] (higher is more confident). For the latter, Buhmann et al. found the highest value in Heinrich et al.’s segmentation along the line between the pre- and postsynaptic point for each synapse. This represents an individual assessment of the validity of each synapse because Buhmann et al. found synapses without using the segmentation by Heinrich et al.. Buhmann et al. suggested using the product of both scores, others found that the “cleft_score” alone with a threshold of 50-100 to be a good filter. We suggest validating analyses with various thresholds.\r\n",
      "Some synapses were (falsely) annotated multiple times. We found that most of these can be fixed by merging synapses between the same partners that are <150nm apart on the presynaptic side. The threshold might vary for different cell types and again we suggest validating analyses with various thresholds.\r\n",
      "Eckstein et al. [3] developed a classifier to predict probabilities for each of six neurotransmitters for each synapse (sum to 1, Dopamine (DA), Acetylcholine (ACh), Glutamate (Glut), Octopamine (OCT), Serotonin (SER), Gabaergic (GABA)). Davi Bock, Gregory Jefferis and Eric Perlman contributed infrastructure to run their classifier on all synapses from Buhmann et al. . For some synapses (<20k) no neurotransmitter information could be acquired. Probabilities for these have been set to all 0. Additionally, the “valid_nt” column can be used to filter these out (False=no neurotransmitter information available). Improving this classifier through the acquisition of additional ground truth is actively worked on. The classifications of ACh, GABA and Glu appear to be more robust than DA, OCT and SER in this version. Additionally, there was little training data from the optic lobe and results are more robust in the central brain. \r\n",
      "\r\n",
      "For any use of these synapses in a study, please cite Buhmann et al. [1]. For using the “cleft_score” please also cite Heinrich et al. [2]. When including the neurotransmitter information please also cite Eckstein et al. [3].\r\n",
      "\r\n",
      "The prediction and dissemination of the neurotransmitter information was supported by NIH BRAIN Initiative (grant 1RF1MH120679-01); additional work including assembling ground truth data was also supported by Wellcome trust (203261/Z/16/Z). \r\n",
      "\r\n",
      "[1] Julia Buhmann, Arlo Sheridan, Stephan Gerhard, Renate Krause, Tri Nguyen, Larissa Heinrich, Philipp Schlegel, Wei-Chung Allen Lee, Rachel Wilson, Stephan Saalfeld, Gregory Jefferis, Davi Bock, Srinivas Turaga, Matthew Cook, Jan Funke. 2019. “Automatic Detection of Synaptic Partners in a Whole-Brain Drosophila EM Dataset”. bioRxiv\r\n",
      "[2] Heinrich L., Funke J., Pape C., Nunez-Iglesias J., Saalfeld S. 2018. “Synaptic Cleft Segmentation in Non-isotropic Volume Electron Microscopy of the Complete Drosophila Brain”. MICCAI 2018. Lecture Notes in Computer Science, vol 11071. Springer\r\n",
      "[3] Nils Eckstein, Alexander S. Bates, Michelle Du, Volker Hartenstein, Gregory S.X.E. Jefferis, Jan Funke. 2020. “Neurotransmitter Classification from Electron Microscopy Images at Synaptic Sites in Drosophila”. bioRxiv\r\n",
      "\n"
     ]
    }
   ],
   "source": [
    "meta_data = client.annotation.get_table_metadata(\"synapses_nt_v1\")\n",
    "print(meta_data[\"description\"])"
   ]
  },
  {
   "cell_type": "markdown",
   "metadata": {},
   "source": [
    "The meta data contains information about the schema which ultimately determines how annotations in a table are structured. All annotations in a table follow the same schema. The synapse table follows the `fly_nt_synapse` schema:"
   ]
  },
  {
   "cell_type": "code",
   "execution_count": 5,
   "metadata": {},
   "outputs": [
    {
     "data": {
      "text/plain": [
       "'fly_nt_synapse'"
      ]
     },
     "execution_count": 5,
     "metadata": {},
     "output_type": "execute_result"
    }
   ],
   "source": [
    "meta_data[\"schema_type\"]"
   ]
  },
  {
   "cell_type": "markdown",
   "metadata": {},
   "source": [
    "## Materialized annotation tables & Queries"
   ]
  },
  {
   "cell_type": "markdown",
   "metadata": {},
   "source": [
    "```\n",
    "materialization = annotation + segmentation snapshot\n",
    "```\n",
    "\n",
    "As the segmentation and annotations change over time, we need to create snapshots of a combined view of them (materialized versions). Materialized versions of the annotation tables are (automatically) generated at a certain frequency. In addition to that, we are planning to include an option to retrieve any timestamp since the latest materialization (\"live\") but that is not available at the moment. \n",
    "\n",
    "There are usually a number of materialized versions available at the same time:"
   ]
  },
  {
   "cell_type": "code",
   "execution_count": 6,
   "metadata": {},
   "outputs": [
    {
     "data": {
      "text/plain": [
       "[56, 64, 66, 67, 68, 70]"
      ]
     },
     "execution_count": 6,
     "metadata": {},
     "output_type": "execute_result"
    }
   ],
   "source": [
    "client.materialize.get_versions()"
   ]
  },
  {
   "cell_type": "markdown",
   "metadata": {},
   "source": [
    "Each version comes with meta data about the time when it was created and when it will be deleted (expired). Different tables have different lifetimes and some may be LTS versions. The exact frequency and lifetime of tables will depend on how the community is using these tables. "
   ]
  },
  {
   "cell_type": "code",
   "execution_count": 7,
   "metadata": {},
   "outputs": [
    {
     "data": {
      "text/plain": [
       "{'valid': True,\n",
       " 'time_stamp': datetime.datetime(2021, 6, 10, 8, 10, 0, 286750, tzinfo=datetime.timezone.utc),\n",
       " 'id': 59,\n",
       " 'version': 70,\n",
       " 'datastack': 'flywire_fafb_production',\n",
       " 'expires_on': datetime.datetime(2021, 6, 12, 8, 10, 0, 286750, tzinfo=datetime.timezone.utc)}"
      ]
     },
     "execution_count": 7,
     "metadata": {},
     "output_type": "execute_result"
    }
   ],
   "source": [
    "latest_version = max(client.materialize.get_versions())\n",
    "client.materialize.get_version_metadata(latest_version)"
   ]
  },
  {
   "cell_type": "markdown",
   "metadata": {},
   "source": [
    "Generally, specifying versions for the materialize service is optional. The latest version is used if no version is defined. \n",
    "\n",
    "Each materialization version contains a set of annotation tables. At the moment all tables are included in a materialization but in the future we might not include all tables in every materialization:"
   ]
  },
  {
   "cell_type": "code",
   "execution_count": 8,
   "metadata": {},
   "outputs": [
    {
     "data": {
      "text/plain": [
       "['synapses_nt_v1']"
      ]
     },
     "execution_count": 8,
     "metadata": {},
     "output_type": "execute_result"
    }
   ],
   "source": [
    "client.materialize.get_tables()"
   ]
  },
  {
   "cell_type": "markdown",
   "metadata": {},
   "source": [
    "### Queries"
   ]
  },
  {
   "cell_type": "markdown",
   "metadata": {},
   "source": [
    "Here, we demonstrate some queries with the synapses from Buhmann et al.. For some essential annotation types, default tables are define in the centralized info service. This way, one automatically uses the latest synapse table after an update. "
   ]
  },
  {
   "cell_type": "code",
   "execution_count": 9,
   "metadata": {},
   "outputs": [
    {
     "name": "stdout",
     "output_type": "stream",
     "text": [
      "synapses_nt_v1\n"
     ]
    }
   ],
   "source": [
    "synapse_table = client.info.get_datastack_info()['synapse_table']\n",
    "print(synapse_table)"
   ]
  },
  {
   "cell_type": "markdown",
   "metadata": {},
   "source": [
    "Each table in this list is stored as a SQL table on the backend. The client allows users to query these tables through the frontend of the Materialization Service conventiently without the need for SQL specific language. The client will format the results as pandas dataframes. Queries are restricted to a size of 200k rows to not overwhelm the server. Should a query result in a larger list of rows, only the first 200k are returned. For bulk downloads (eg. for data preservation before a publication) please contact us.\n",
    "\n",
    "To demonstrate this this query would pull the entire table but will only gather 200k rows (should take <2min). A warning will be raised if the query is cut short."
   ]
  },
  {
   "cell_type": "code",
   "execution_count": 10,
   "metadata": {},
   "outputs": [
    {
     "name": "stderr",
     "output_type": "stream",
     "text": [
      "WARNING:root:201 - \"Limited query to 200000 rows\n"
     ]
    },
    {
     "name": "stdout",
     "output_type": "stream",
     "text": [
      "CPU times: user 764 ms, sys: 187 ms, total: 951 ms\n",
      "Wall time: 6.76 s\n"
     ]
    }
   ],
   "source": [
    "%%time\n",
    "\n",
    "syn_df = client.materialize.query_table(synapse_table)"
   ]
  },
  {
   "cell_type": "code",
   "execution_count": 11,
   "metadata": {},
   "outputs": [
    {
     "name": "stdout",
     "output_type": "stream",
     "text": [
      "200000\n"
     ]
    }
   ],
   "source": [
    "print(len(syn_df))"
   ]
  },
  {
   "cell_type": "markdown",
   "metadata": {},
   "source": [
    "Here, we set the materialization version specifically. If the materialization version is not specified, the query defaults to the most recent version.\n",
    "\n",
    "Let's take a brief look at the columns to illustrate how the materialization extends an annotation table:"
   ]
  },
  {
   "cell_type": "code",
   "execution_count": 12,
   "metadata": {},
   "outputs": [
    {
     "data": {
      "text/html": [
       "<div>\n",
       "<style scoped>\n",
       "    .dataframe tbody tr th:only-of-type {\n",
       "        vertical-align: middle;\n",
       "    }\n",
       "\n",
       "    .dataframe tbody tr th {\n",
       "        vertical-align: top;\n",
       "    }\n",
       "\n",
       "    .dataframe thead th {\n",
       "        text-align: right;\n",
       "    }\n",
       "</style>\n",
       "<table border=\"1\" class=\"dataframe\">\n",
       "  <thead>\n",
       "    <tr style=\"text-align: right;\">\n",
       "      <th></th>\n",
       "      <th>id</th>\n",
       "      <th>valid</th>\n",
       "      <th>pre_pt_supervoxel_id</th>\n",
       "      <th>pre_pt_root_id</th>\n",
       "      <th>post_pt_supervoxel_id</th>\n",
       "      <th>post_pt_root_id</th>\n",
       "      <th>connection_score</th>\n",
       "      <th>cleft_score</th>\n",
       "      <th>gaba</th>\n",
       "      <th>ach</th>\n",
       "      <th>glut</th>\n",
       "      <th>oct</th>\n",
       "      <th>ser</th>\n",
       "      <th>da</th>\n",
       "      <th>valid_nt</th>\n",
       "      <th>pre_pt_position</th>\n",
       "      <th>post_pt_position</th>\n",
       "    </tr>\n",
       "  </thead>\n",
       "  <tbody>\n",
       "    <tr>\n",
       "      <th>0</th>\n",
       "      <td>102406485</td>\n",
       "      <td>t</td>\n",
       "      <td>81559230397890019</td>\n",
       "      <td>720575940633908343</td>\n",
       "      <td>81559230397890088</td>\n",
       "      <td>720575940572044374</td>\n",
       "      <td>217.020920</td>\n",
       "      <td>122</td>\n",
       "      <td>0.001483</td>\n",
       "      <td>0.988252</td>\n",
       "      <td>1.837718e-05</td>\n",
       "      <td>0.000066</td>\n",
       "      <td>0.000337</td>\n",
       "      <td>0.009844</td>\n",
       "      <td>t</td>\n",
       "      <td>[636900, 135040, 152840]</td>\n",
       "      <td>[636832, 135124, 152880]</td>\n",
       "    </tr>\n",
       "    <tr>\n",
       "      <th>1</th>\n",
       "      <td>101781363</td>\n",
       "      <td>t</td>\n",
       "      <td>81139629272907063</td>\n",
       "      <td>720575940630969051</td>\n",
       "      <td>81139629272948248</td>\n",
       "      <td>720575940599614314</td>\n",
       "      <td>22.191496</td>\n",
       "      <td>0</td>\n",
       "      <td>0.105925</td>\n",
       "      <td>0.352661</td>\n",
       "      <td>3.122027e-01</td>\n",
       "      <td>0.000107</td>\n",
       "      <td>0.176082</td>\n",
       "      <td>0.053023</td>\n",
       "      <td>t</td>\n",
       "      <td>[613864, 292888, 152600]</td>\n",
       "      <td>[613868, 292984, 152640]</td>\n",
       "    </tr>\n",
       "    <tr>\n",
       "      <th>2</th>\n",
       "      <td>102336123</td>\n",
       "      <td>t</td>\n",
       "      <td>83251997268285653</td>\n",
       "      <td>720575940627576594</td>\n",
       "      <td>83181628524108478</td>\n",
       "      <td>720575940590270455</td>\n",
       "      <td>115.574806</td>\n",
       "      <td>57</td>\n",
       "      <td>0.005971</td>\n",
       "      <td>0.927559</td>\n",
       "      <td>7.128069e-04</td>\n",
       "      <td>0.063133</td>\n",
       "      <td>0.000020</td>\n",
       "      <td>0.002605</td>\n",
       "      <td>t</td>\n",
       "      <td>[732880, 370040, 151320]</td>\n",
       "      <td>[732752, 370080, 151320]</td>\n",
       "    </tr>\n",
       "    <tr>\n",
       "      <th>3</th>\n",
       "      <td>101781421</td>\n",
       "      <td>t</td>\n",
       "      <td>73469504877006214</td>\n",
       "      <td>720575940589372239</td>\n",
       "      <td>73469504876999566</td>\n",
       "      <td>720575940587527270</td>\n",
       "      <td>141.460388</td>\n",
       "      <td>144</td>\n",
       "      <td>0.000468</td>\n",
       "      <td>0.553068</td>\n",
       "      <td>1.522532e-08</td>\n",
       "      <td>0.000013</td>\n",
       "      <td>0.000003</td>\n",
       "      <td>0.446448</td>\n",
       "      <td>t</td>\n",
       "      <td>[166996, 294144, 151280]</td>\n",
       "      <td>[166920, 294024, 151280]</td>\n",
       "    </tr>\n",
       "    <tr>\n",
       "      <th>4</th>\n",
       "      <td>101781599</td>\n",
       "      <td>t</td>\n",
       "      <td>80998960504056992</td>\n",
       "      <td>720575940613732364</td>\n",
       "      <td>80998960504043951</td>\n",
       "      <td>720575940613732364</td>\n",
       "      <td>38.557209</td>\n",
       "      <td>37</td>\n",
       "      <td>0.674273</td>\n",
       "      <td>0.012040</td>\n",
       "      <td>2.504642e-01</td>\n",
       "      <td>0.001070</td>\n",
       "      <td>0.012926</td>\n",
       "      <td>0.049227</td>\n",
       "      <td>t</td>\n",
       "      <td>[604412, 294744, 151520]</td>\n",
       "      <td>[604364, 294860, 151520]</td>\n",
       "    </tr>\n",
       "  </tbody>\n",
       "</table>\n",
       "</div>"
      ],
      "text/plain": [
       "          id valid  pre_pt_supervoxel_id      pre_pt_root_id  \\\n",
       "0  102406485     t     81559230397890019  720575940633908343   \n",
       "1  101781363     t     81139629272907063  720575940630969051   \n",
       "2  102336123     t     83251997268285653  720575940627576594   \n",
       "3  101781421     t     73469504877006214  720575940589372239   \n",
       "4  101781599     t     80998960504056992  720575940613732364   \n",
       "\n",
       "   post_pt_supervoxel_id     post_pt_root_id  connection_score  cleft_score  \\\n",
       "0      81559230397890088  720575940572044374        217.020920          122   \n",
       "1      81139629272948248  720575940599614314         22.191496            0   \n",
       "2      83181628524108478  720575940590270455        115.574806           57   \n",
       "3      73469504876999566  720575940587527270        141.460388          144   \n",
       "4      80998960504043951  720575940613732364         38.557209           37   \n",
       "\n",
       "       gaba       ach          glut       oct       ser        da valid_nt  \\\n",
       "0  0.001483  0.988252  1.837718e-05  0.000066  0.000337  0.009844        t   \n",
       "1  0.105925  0.352661  3.122027e-01  0.000107  0.176082  0.053023        t   \n",
       "2  0.005971  0.927559  7.128069e-04  0.063133  0.000020  0.002605        t   \n",
       "3  0.000468  0.553068  1.522532e-08  0.000013  0.000003  0.446448        t   \n",
       "4  0.674273  0.012040  2.504642e-01  0.001070  0.012926  0.049227        t   \n",
       "\n",
       "            pre_pt_position          post_pt_position  \n",
       "0  [636900, 135040, 152840]  [636832, 135124, 152880]  \n",
       "1  [613864, 292888, 152600]  [613868, 292984, 152640]  \n",
       "2  [732880, 370040, 151320]  [732752, 370080, 151320]  \n",
       "3  [166996, 294144, 151280]  [166920, 294024, 151280]  \n",
       "4  [604412, 294744, 151520]  [604364, 294860, 151520]  "
      ]
     },
     "execution_count": 12,
     "metadata": {},
     "output_type": "execute_result"
    }
   ],
   "source": [
    "syn_df.head()"
   ]
  },
  {
   "cell_type": "markdown",
   "metadata": {},
   "source": [
    "Annotations consist of parameters and spatial points. Some or all of these spatial points are what we call \"BoundSpatialPoints\". These are linked to the segmentation during materialization. The synapse tables have two such points (`pre_pt`, `post_pt`). Per point there are three columns: `*_position`, `*_supervoxel_id`, `*_root_id`. Supervoxels are the small atomic segments, and root ids describe large components (neurons) consisting of many supervoxels. A root id always refers to the same version of a neuron and represents a snapshot in time in its own right. For a given annotation id (`id`), all but the `*_root_id` columns stay constant between materializations. "
   ]
  },
  {
   "cell_type": "markdown",
   "metadata": {},
   "source": [
    "`query_table` has three parameters to define filters: filter_in_dict, filter_out_dict, filter_equal_dict. More options will be added. This can be used to query synapses between any lists of neurons. For instance, to query the outgoing synapses of an AMMC-B1 neuron we included in the FlyWire paper:\n",
    "(see the next section for how to come up with a specific root id)"
   ]
  },
  {
   "cell_type": "code",
   "execution_count": 13,
   "metadata": {},
   "outputs": [
    {
     "name": "stdout",
     "output_type": "stream",
     "text": [
      "CPU times: user 34 ms, sys: 209 µs, total: 34.2 ms\n",
      "Wall time: 413 ms\n"
     ]
    }
   ],
   "source": [
    "%%time\n",
    "\n",
    "syn_df = client.materialize.query_table(synapse_table, \n",
    "                                        filter_in_dict={\"pre_pt_root_id\": [720575940627197566]})"
   ]
  },
  {
   "cell_type": "markdown",
   "metadata": {},
   "source": [
    "As described in the metadata above, we suggest filtering the synapse table using the `cleft_score` and `connection_score`. Tuning these will help to reduce the number of false positive synapses in the list. The best threshold(s) will depend on the specific neurons included in the analysis. Here we will just remove all synapses with a `cleft_score < 50`."
   ]
  },
  {
   "cell_type": "code",
   "execution_count": 14,
   "metadata": {},
   "outputs": [],
   "source": [
    "syn_df = syn_df[syn_df[\"cleft_score\"] >= 50]"
   ]
  },
  {
   "cell_type": "markdown",
   "metadata": {},
   "source": [
    "Some postsynaptic partners have a 0 id. Many of these are due to the synapse prediction covering a bigger space than the segmentation. Here, we remove these along with synapses onto itself as we are confident that this cell does not make autapses."
   ]
  },
  {
   "cell_type": "code",
   "execution_count": 15,
   "metadata": {},
   "outputs": [],
   "source": [
    "syn_df = syn_df[syn_df[\"pre_pt_root_id\"] != syn_df[\"post_pt_root_id\"]]\n",
    "syn_df = syn_df[syn_df[\"post_pt_root_id\"] != 0]"
   ]
  },
  {
   "cell_type": "markdown",
   "metadata": {},
   "source": [
    "This synapse table comes with neurotransmitter prediction from the work of Eckstein et al.. Please review the description in the metadata to understand the caveats of this data with regards your analysis. Here, we just look at the mean of the probablities of all outgoing synapses which shows that this neuron's neurotransmitter is very likely acetylcholine."
   ]
  },
  {
   "cell_type": "code",
   "execution_count": 16,
   "metadata": {},
   "outputs": [
    {
     "data": {
      "text/plain": [
       "gaba    0.032069\n",
       "ach     0.835793\n",
       "glut    0.041500\n",
       "oct     0.005178\n",
       "ser     0.021450\n",
       "da      0.064010\n",
       "dtype: float64"
      ]
     },
     "execution_count": 16,
     "metadata": {},
     "output_type": "execute_result"
    }
   ],
   "source": [
    "np.mean(syn_df[[\"gaba\", \"ach\", \"glut\", \"oct\", \"ser\", \"da\"]])"
   ]
  },
  {
   "cell_type": "markdown",
   "metadata": {},
   "source": [
    "Here we take a brief look at the postsynaptic partners and sorting them by number of synapses; displaying the top 10:"
   ]
  },
  {
   "cell_type": "code",
   "execution_count": 17,
   "metadata": {},
   "outputs": [
    {
     "data": {
      "text/plain": [
       "[(720575940612001489, 96),\n",
       " (720575940639811469, 92),\n",
       " (720575940606297353, 88),\n",
       " (720575940615361748, 86),\n",
       " (720575940621893127, 84),\n",
       " (720575940621301738, 80),\n",
       " (720575940626312778, 73),\n",
       " (720575940625492753, 71),\n",
       " (720575940623903434, 65),\n",
       " (720575940618489734, 64)]"
      ]
     },
     "execution_count": 17,
     "metadata": {},
     "output_type": "execute_result"
    }
   ],
   "source": [
    "u_post_root_ids, c_post_root_ids = np.unique(syn_df[\"post_pt_root_id\"], return_counts=True)\n",
    "\n",
    "sorting = np.argsort(c_post_root_ids)[::-1][:10]\n",
    "list(zip(u_post_root_ids[sorting], c_post_root_ids[sorting]))"
   ]
  },
  {
   "cell_type": "markdown",
   "metadata": {},
   "source": [
    "The main target is an AMMC-A1 (720575940613535430) which is a connection we described in Figure 6 in the FlyWire paper.\n",
    "\n",
    "We can further restrict the query by filtering the postsynaptic targets. For instance this query will only return the synapses between the these two root ids."
   ]
  },
  {
   "cell_type": "code",
   "execution_count": 18,
   "metadata": {},
   "outputs": [
    {
     "data": {
      "text/html": [
       "<div>\n",
       "<style scoped>\n",
       "    .dataframe tbody tr th:only-of-type {\n",
       "        vertical-align: middle;\n",
       "    }\n",
       "\n",
       "    .dataframe tbody tr th {\n",
       "        vertical-align: top;\n",
       "    }\n",
       "\n",
       "    .dataframe thead th {\n",
       "        text-align: right;\n",
       "    }\n",
       "</style>\n",
       "<table border=\"1\" class=\"dataframe\">\n",
       "  <thead>\n",
       "    <tr style=\"text-align: right;\">\n",
       "      <th></th>\n",
       "      <th>id</th>\n",
       "      <th>valid</th>\n",
       "      <th>pre_pt_supervoxel_id</th>\n",
       "      <th>pre_pt_root_id</th>\n",
       "      <th>post_pt_supervoxel_id</th>\n",
       "      <th>post_pt_root_id</th>\n",
       "      <th>connection_score</th>\n",
       "      <th>cleft_score</th>\n",
       "      <th>gaba</th>\n",
       "      <th>ach</th>\n",
       "      <th>glut</th>\n",
       "      <th>oct</th>\n",
       "      <th>ser</th>\n",
       "      <th>da</th>\n",
       "      <th>valid_nt</th>\n",
       "      <th>pre_pt_position</th>\n",
       "      <th>post_pt_position</th>\n",
       "    </tr>\n",
       "  </thead>\n",
       "  <tbody>\n",
       "    <tr>\n",
       "      <th>0</th>\n",
       "      <td>211365569</td>\n",
       "      <td>t</td>\n",
       "      <td>77832229442872849</td>\n",
       "      <td>720575940627197566</td>\n",
       "      <td>77832229442883229</td>\n",
       "      <td>720575940612001489</td>\n",
       "      <td>52.161354</td>\n",
       "      <td>100</td>\n",
       "      <td>0.050798</td>\n",
       "      <td>0.706145</td>\n",
       "      <td>0.103963</td>\n",
       "      <td>0.020856</td>\n",
       "      <td>0.007026</td>\n",
       "      <td>0.111212</td>\n",
       "      <td>t</td>\n",
       "      <td>[418808, 286736, 110840]</td>\n",
       "      <td>[418760, 286616, 110880]</td>\n",
       "    </tr>\n",
       "    <tr>\n",
       "      <th>1</th>\n",
       "      <td>217890780</td>\n",
       "      <td>t</td>\n",
       "      <td>77691423235424395</td>\n",
       "      <td>720575940627197566</td>\n",
       "      <td>77691423235425756</td>\n",
       "      <td>720575940612001489</td>\n",
       "      <td>102.692398</td>\n",
       "      <td>145</td>\n",
       "      <td>0.004396</td>\n",
       "      <td>0.970069</td>\n",
       "      <td>0.000883</td>\n",
       "      <td>0.000840</td>\n",
       "      <td>0.000148</td>\n",
       "      <td>0.023665</td>\n",
       "      <td>t</td>\n",
       "      <td>[412236, 283056, 121640]</td>\n",
       "      <td>[412208, 283148, 121680]</td>\n",
       "    </tr>\n",
       "    <tr>\n",
       "      <th>2</th>\n",
       "      <td>6180240</td>\n",
       "      <td>t</td>\n",
       "      <td>77761173637894262</td>\n",
       "      <td>720575940627197566</td>\n",
       "      <td>77761173637888123</td>\n",
       "      <td>720575940612001489</td>\n",
       "      <td>227.389908</td>\n",
       "      <td>158</td>\n",
       "      <td>0.011852</td>\n",
       "      <td>0.966436</td>\n",
       "      <td>0.005491</td>\n",
       "      <td>0.002103</td>\n",
       "      <td>0.000580</td>\n",
       "      <td>0.013538</td>\n",
       "      <td>t</td>\n",
       "      <td>[414292, 245008, 144520]</td>\n",
       "      <td>[414160, 245016, 144520]</td>\n",
       "    </tr>\n",
       "    <tr>\n",
       "      <th>3</th>\n",
       "      <td>51374154</td>\n",
       "      <td>t</td>\n",
       "      <td>77691285729116258</td>\n",
       "      <td>720575940627197566</td>\n",
       "      <td>77691285729100925</td>\n",
       "      <td>720575940612001489</td>\n",
       "      <td>111.818047</td>\n",
       "      <td>132</td>\n",
       "      <td>0.008370</td>\n",
       "      <td>0.705035</td>\n",
       "      <td>0.009202</td>\n",
       "      <td>0.000005</td>\n",
       "      <td>0.272142</td>\n",
       "      <td>0.005246</td>\n",
       "      <td>t</td>\n",
       "      <td>[409856, 274840, 93040]</td>\n",
       "      <td>[409984, 274868, 93040]</td>\n",
       "    </tr>\n",
       "    <tr>\n",
       "      <th>4</th>\n",
       "      <td>237434942</td>\n",
       "      <td>t</td>\n",
       "      <td>77832023284765928</td>\n",
       "      <td>720575940627197566</td>\n",
       "      <td>77832023284771485</td>\n",
       "      <td>720575940612001489</td>\n",
       "      <td>161.775467</td>\n",
       "      <td>141</td>\n",
       "      <td>0.023719</td>\n",
       "      <td>0.890757</td>\n",
       "      <td>0.013778</td>\n",
       "      <td>0.002228</td>\n",
       "      <td>0.019519</td>\n",
       "      <td>0.049999</td>\n",
       "      <td>t</td>\n",
       "      <td>[417900, 272952, 119880]</td>\n",
       "      <td>[417844, 273044, 119880]</td>\n",
       "    </tr>\n",
       "    <tr>\n",
       "      <th>...</th>\n",
       "      <td>...</td>\n",
       "      <td>...</td>\n",
       "      <td>...</td>\n",
       "      <td>...</td>\n",
       "      <td>...</td>\n",
       "      <td>...</td>\n",
       "      <td>...</td>\n",
       "      <td>...</td>\n",
       "      <td>...</td>\n",
       "      <td>...</td>\n",
       "      <td>...</td>\n",
       "      <td>...</td>\n",
       "      <td>...</td>\n",
       "      <td>...</td>\n",
       "      <td>...</td>\n",
       "      <td>...</td>\n",
       "      <td>...</td>\n",
       "    </tr>\n",
       "    <tr>\n",
       "      <th>121</th>\n",
       "      <td>236131087</td>\n",
       "      <td>t</td>\n",
       "      <td>77761585821121562</td>\n",
       "      <td>720575940627197566</td>\n",
       "      <td>77761585821120349</td>\n",
       "      <td>720575940612001489</td>\n",
       "      <td>88.254326</td>\n",
       "      <td>116</td>\n",
       "      <td>0.007150</td>\n",
       "      <td>0.958711</td>\n",
       "      <td>0.001355</td>\n",
       "      <td>0.016179</td>\n",
       "      <td>0.000408</td>\n",
       "      <td>0.016197</td>\n",
       "      <td>t</td>\n",
       "      <td>[414620, 270192, 119680]</td>\n",
       "      <td>[414520, 270216, 119680]</td>\n",
       "    </tr>\n",
       "    <tr>\n",
       "      <th>122</th>\n",
       "      <td>217890770</td>\n",
       "      <td>t</td>\n",
       "      <td>77691423235405859</td>\n",
       "      <td>720575940627197566</td>\n",
       "      <td>77691423235425756</td>\n",
       "      <td>720575940612001489</td>\n",
       "      <td>65.530502</td>\n",
       "      <td>145</td>\n",
       "      <td>0.003493</td>\n",
       "      <td>0.976093</td>\n",
       "      <td>0.000120</td>\n",
       "      <td>0.003406</td>\n",
       "      <td>0.000033</td>\n",
       "      <td>0.016854</td>\n",
       "      <td>t</td>\n",
       "      <td>[412216, 283052, 121600]</td>\n",
       "      <td>[412128, 283092, 121640]</td>\n",
       "    </tr>\n",
       "    <tr>\n",
       "      <th>123</th>\n",
       "      <td>147115465</td>\n",
       "      <td>t</td>\n",
       "      <td>77832023284730175</td>\n",
       "      <td>720575940627197566</td>\n",
       "      <td>77832023284716150</td>\n",
       "      <td>720575940612001489</td>\n",
       "      <td>13.454404</td>\n",
       "      <td>142</td>\n",
       "      <td>0.014081</td>\n",
       "      <td>0.748565</td>\n",
       "      <td>0.001552</td>\n",
       "      <td>0.000199</td>\n",
       "      <td>0.003485</td>\n",
       "      <td>0.232117</td>\n",
       "      <td>t</td>\n",
       "      <td>[419512, 274800, 118480]</td>\n",
       "      <td>[419480, 274656, 118480]</td>\n",
       "    </tr>\n",
       "    <tr>\n",
       "      <th>124</th>\n",
       "      <td>221946020</td>\n",
       "      <td>t</td>\n",
       "      <td>77832160723343355</td>\n",
       "      <td>720575940627197566</td>\n",
       "      <td>77832160723346346</td>\n",
       "      <td>720575940612001489</td>\n",
       "      <td>1038.665283</td>\n",
       "      <td>143</td>\n",
       "      <td>0.048305</td>\n",
       "      <td>0.895462</td>\n",
       "      <td>0.023994</td>\n",
       "      <td>0.006970</td>\n",
       "      <td>0.001213</td>\n",
       "      <td>0.024056</td>\n",
       "      <td>t</td>\n",
       "      <td>[417700, 282552, 108800]</td>\n",
       "      <td>[417580, 282568, 108800]</td>\n",
       "    </tr>\n",
       "    <tr>\n",
       "      <th>125</th>\n",
       "      <td>237435004</td>\n",
       "      <td>t</td>\n",
       "      <td>77832023284778536</td>\n",
       "      <td>720575940627197566</td>\n",
       "      <td>77832023284792016</td>\n",
       "      <td>720575940612001489</td>\n",
       "      <td>91.194901</td>\n",
       "      <td>114</td>\n",
       "      <td>0.056194</td>\n",
       "      <td>0.560103</td>\n",
       "      <td>0.066058</td>\n",
       "      <td>0.014366</td>\n",
       "      <td>0.059227</td>\n",
       "      <td>0.244052</td>\n",
       "      <td>t</td>\n",
       "      <td>[419064, 274020, 120360]</td>\n",
       "      <td>[419164, 273968, 120400]</td>\n",
       "    </tr>\n",
       "  </tbody>\n",
       "</table>\n",
       "<p>96 rows × 17 columns</p>\n",
       "</div>"
      ],
      "text/plain": [
       "            id valid  pre_pt_supervoxel_id      pre_pt_root_id  \\\n",
       "0    211365569     t     77832229442872849  720575940627197566   \n",
       "1    217890780     t     77691423235424395  720575940627197566   \n",
       "2      6180240     t     77761173637894262  720575940627197566   \n",
       "3     51374154     t     77691285729116258  720575940627197566   \n",
       "4    237434942     t     77832023284765928  720575940627197566   \n",
       "..         ...   ...                   ...                 ...   \n",
       "121  236131087     t     77761585821121562  720575940627197566   \n",
       "122  217890770     t     77691423235405859  720575940627197566   \n",
       "123  147115465     t     77832023284730175  720575940627197566   \n",
       "124  221946020     t     77832160723343355  720575940627197566   \n",
       "125  237435004     t     77832023284778536  720575940627197566   \n",
       "\n",
       "     post_pt_supervoxel_id     post_pt_root_id  connection_score  cleft_score  \\\n",
       "0        77832229442883229  720575940612001489         52.161354          100   \n",
       "1        77691423235425756  720575940612001489        102.692398          145   \n",
       "2        77761173637888123  720575940612001489        227.389908          158   \n",
       "3        77691285729100925  720575940612001489        111.818047          132   \n",
       "4        77832023284771485  720575940612001489        161.775467          141   \n",
       "..                     ...                 ...               ...          ...   \n",
       "121      77761585821120349  720575940612001489         88.254326          116   \n",
       "122      77691423235425756  720575940612001489         65.530502          145   \n",
       "123      77832023284716150  720575940612001489         13.454404          142   \n",
       "124      77832160723346346  720575940612001489       1038.665283          143   \n",
       "125      77832023284792016  720575940612001489         91.194901          114   \n",
       "\n",
       "         gaba       ach      glut       oct       ser        da valid_nt  \\\n",
       "0    0.050798  0.706145  0.103963  0.020856  0.007026  0.111212        t   \n",
       "1    0.004396  0.970069  0.000883  0.000840  0.000148  0.023665        t   \n",
       "2    0.011852  0.966436  0.005491  0.002103  0.000580  0.013538        t   \n",
       "3    0.008370  0.705035  0.009202  0.000005  0.272142  0.005246        t   \n",
       "4    0.023719  0.890757  0.013778  0.002228  0.019519  0.049999        t   \n",
       "..        ...       ...       ...       ...       ...       ...      ...   \n",
       "121  0.007150  0.958711  0.001355  0.016179  0.000408  0.016197        t   \n",
       "122  0.003493  0.976093  0.000120  0.003406  0.000033  0.016854        t   \n",
       "123  0.014081  0.748565  0.001552  0.000199  0.003485  0.232117        t   \n",
       "124  0.048305  0.895462  0.023994  0.006970  0.001213  0.024056        t   \n",
       "125  0.056194  0.560103  0.066058  0.014366  0.059227  0.244052        t   \n",
       "\n",
       "              pre_pt_position          post_pt_position  \n",
       "0    [418808, 286736, 110840]  [418760, 286616, 110880]  \n",
       "1    [412236, 283056, 121640]  [412208, 283148, 121680]  \n",
       "2    [414292, 245008, 144520]  [414160, 245016, 144520]  \n",
       "3     [409856, 274840, 93040]   [409984, 274868, 93040]  \n",
       "4    [417900, 272952, 119880]  [417844, 273044, 119880]  \n",
       "..                        ...                       ...  \n",
       "121  [414620, 270192, 119680]  [414520, 270216, 119680]  \n",
       "122  [412216, 283052, 121600]  [412128, 283092, 121640]  \n",
       "123  [419512, 274800, 118480]  [419480, 274656, 118480]  \n",
       "124  [417700, 282552, 108800]  [417580, 282568, 108800]  \n",
       "125  [419064, 274020, 120360]  [419164, 273968, 120400]  \n",
       "\n",
       "[96 rows x 17 columns]"
      ]
     },
     "execution_count": 18,
     "metadata": {},
     "output_type": "execute_result"
    }
   ],
   "source": [
    "syn_df = client.materialize.query_table(synapse_table, \n",
    "                                        filter_in_dict={\"pre_pt_root_id\": [720575940627197566],\n",
    "                                                        \"post_pt_root_id\": [720575940612001489]})\n",
    "syn_df = syn_df[syn_df[\"cleft_score\"] >= 50]\n",
    "\n",
    "syn_df"
   ]
  },
  {
   "cell_type": "markdown",
   "metadata": {},
   "source": [
    "## \"Live\" Materialization Queries"
   ]
  },
  {
   "cell_type": "markdown",
   "metadata": {},
   "source": [
    "Before using live materializations, please make sure that your installation of the caveclient is `>= 3.1.0`. You can upgrade your installed version with \n",
    "\n",
    "\n",
    "```\n",
    "pip install caveclient --upgrade\n",
    "```\n",
    "\n",
    "To make sure the latest version of the library is used in this notebook after an upgrade it is best to reload the notebook kernel. Your current version is:"
   ]
  },
  {
   "cell_type": "code",
   "execution_count": 19,
   "metadata": {},
   "outputs": [
    {
     "data": {
      "text/plain": [
       "'3.1.0'"
      ]
     },
     "execution_count": 19,
     "metadata": {},
     "output_type": "execute_result"
    }
   ],
   "source": [
    "import caveclient\n",
    "caveclient.__version__"
   ]
  },
  {
   "cell_type": "markdown",
   "metadata": {},
   "source": [
    "\"Live\" materializations allow one to run queries without adhering to versions. This is useful when recent proofreading edits should be reflected in the analysis. Live materializations require a timestamp for which the query should be executed. "
   ]
  },
  {
   "cell_type": "code",
   "execution_count": 20,
   "metadata": {},
   "outputs": [],
   "source": [
    "timestamp_now = datetime.datetime.utcnow()"
   ]
  },
  {
   "cell_type": "code",
   "execution_count": 21,
   "metadata": {},
   "outputs": [
    {
     "name": "stdout",
     "output_type": "stream",
     "text": [
      "CPU times: user 70.7 ms, sys: 1.2 ms, total: 71.9 ms\n",
      "Wall time: 1.97 s\n"
     ]
    },
    {
     "data": {
      "text/html": [
       "<div>\n",
       "<style scoped>\n",
       "    .dataframe tbody tr th:only-of-type {\n",
       "        vertical-align: middle;\n",
       "    }\n",
       "\n",
       "    .dataframe tbody tr th {\n",
       "        vertical-align: top;\n",
       "    }\n",
       "\n",
       "    .dataframe thead th {\n",
       "        text-align: right;\n",
       "    }\n",
       "</style>\n",
       "<table border=\"1\" class=\"dataframe\">\n",
       "  <thead>\n",
       "    <tr style=\"text-align: right;\">\n",
       "      <th></th>\n",
       "      <th>id</th>\n",
       "      <th>valid</th>\n",
       "      <th>pre_pt_supervoxel_id</th>\n",
       "      <th>pre_pt_root_id</th>\n",
       "      <th>post_pt_supervoxel_id</th>\n",
       "      <th>post_pt_root_id</th>\n",
       "      <th>connection_score</th>\n",
       "      <th>cleft_score</th>\n",
       "      <th>gaba</th>\n",
       "      <th>ach</th>\n",
       "      <th>glut</th>\n",
       "      <th>oct</th>\n",
       "      <th>ser</th>\n",
       "      <th>da</th>\n",
       "      <th>valid_nt</th>\n",
       "      <th>pre_pt_position</th>\n",
       "      <th>post_pt_position</th>\n",
       "    </tr>\n",
       "  </thead>\n",
       "  <tbody>\n",
       "    <tr>\n",
       "      <th>0</th>\n",
       "      <td>43917406</td>\n",
       "      <td>t</td>\n",
       "      <td>84727748031271775</td>\n",
       "      <td>720575940637186126</td>\n",
       "      <td>84727748031264584</td>\n",
       "      <td>720575940626445100</td>\n",
       "      <td>63.022396</td>\n",
       "      <td>124</td>\n",
       "      <td>0.010390</td>\n",
       "      <td>0.950272</td>\n",
       "      <td>0.002132</td>\n",
       "      <td>0.008374</td>\n",
       "      <td>3.866737e-04</td>\n",
       "      <td>0.028445</td>\n",
       "      <td>t</td>\n",
       "      <td>[820188, 250388, 153800]</td>\n",
       "      <td>[820212, 250440, 153840]</td>\n",
       "    </tr>\n",
       "    <tr>\n",
       "      <th>1</th>\n",
       "      <td>61506994</td>\n",
       "      <td>t</td>\n",
       "      <td>83320304562319572</td>\n",
       "      <td>720575940637186126</td>\n",
       "      <td>83320304562328649</td>\n",
       "      <td>720575940619082317</td>\n",
       "      <td>54.087387</td>\n",
       "      <td>139</td>\n",
       "      <td>0.000389</td>\n",
       "      <td>0.997138</td>\n",
       "      <td>0.000002</td>\n",
       "      <td>0.001707</td>\n",
       "      <td>9.331072e-07</td>\n",
       "      <td>0.000762</td>\n",
       "      <td>t</td>\n",
       "      <td>[740408, 246192, 190520]</td>\n",
       "      <td>[740380, 246032, 190560]</td>\n",
       "    </tr>\n",
       "    <tr>\n",
       "      <th>2</th>\n",
       "      <td>232489725</td>\n",
       "      <td>t</td>\n",
       "      <td>84094429400951571</td>\n",
       "      <td>720575940637186126</td>\n",
       "      <td>84094429400956510</td>\n",
       "      <td>720575940590374582</td>\n",
       "      <td>270.478394</td>\n",
       "      <td>137</td>\n",
       "      <td>0.064027</td>\n",
       "      <td>0.356340</td>\n",
       "      <td>0.515614</td>\n",
       "      <td>0.004106</td>\n",
       "      <td>6.949618e-03</td>\n",
       "      <td>0.052963</td>\n",
       "      <td>t</td>\n",
       "      <td>[782552, 248476, 180040]</td>\n",
       "      <td>[782508, 248392, 180080]</td>\n",
       "    </tr>\n",
       "    <tr>\n",
       "      <th>3</th>\n",
       "      <td>232945196</td>\n",
       "      <td>t</td>\n",
       "      <td>84094429400971745</td>\n",
       "      <td>720575940637186126</td>\n",
       "      <td>84024060656788915</td>\n",
       "      <td>720575940583849998</td>\n",
       "      <td>100.080338</td>\n",
       "      <td>144</td>\n",
       "      <td>0.021885</td>\n",
       "      <td>0.813248</td>\n",
       "      <td>0.028637</td>\n",
       "      <td>0.006434</td>\n",
       "      <td>7.459946e-03</td>\n",
       "      <td>0.122336</td>\n",
       "      <td>t</td>\n",
       "      <td>[782036, 250656, 180240]</td>\n",
       "      <td>[781968, 250780, 180200]</td>\n",
       "    </tr>\n",
       "    <tr>\n",
       "      <th>4</th>\n",
       "      <td>239559768</td>\n",
       "      <td>t</td>\n",
       "      <td>84094429400828504</td>\n",
       "      <td>720575940637186126</td>\n",
       "      <td>84094429400827280</td>\n",
       "      <td>720575940626431532</td>\n",
       "      <td>31.991150</td>\n",
       "      <td>146</td>\n",
       "      <td>0.087519</td>\n",
       "      <td>0.123452</td>\n",
       "      <td>0.744683</td>\n",
       "      <td>0.002957</td>\n",
       "      <td>2.260582e-02</td>\n",
       "      <td>0.018783</td>\n",
       "      <td>t</td>\n",
       "      <td>[783352, 250516, 176320]</td>\n",
       "      <td>[783288, 250484, 176280]</td>\n",
       "    </tr>\n",
       "    <tr>\n",
       "      <th>...</th>\n",
       "      <td>...</td>\n",
       "      <td>...</td>\n",
       "      <td>...</td>\n",
       "      <td>...</td>\n",
       "      <td>...</td>\n",
       "      <td>...</td>\n",
       "      <td>...</td>\n",
       "      <td>...</td>\n",
       "      <td>...</td>\n",
       "      <td>...</td>\n",
       "      <td>...</td>\n",
       "      <td>...</td>\n",
       "      <td>...</td>\n",
       "      <td>...</td>\n",
       "      <td>...</td>\n",
       "      <td>...</td>\n",
       "      <td>...</td>\n",
       "    </tr>\n",
       "    <tr>\n",
       "      <th>1807</th>\n",
       "      <td>232945305</td>\n",
       "      <td>t</td>\n",
       "      <td>84094429400962617</td>\n",
       "      <td>720575940637186126</td>\n",
       "      <td>84094429400990219</td>\n",
       "      <td>720575940633432206</td>\n",
       "      <td>51.244499</td>\n",
       "      <td>111</td>\n",
       "      <td>0.006596</td>\n",
       "      <td>0.946592</td>\n",
       "      <td>0.003757</td>\n",
       "      <td>0.034190</td>\n",
       "      <td>8.990807e-05</td>\n",
       "      <td>0.008774</td>\n",
       "      <td>t</td>\n",
       "      <td>[782376, 251864, 180800]</td>\n",
       "      <td>[782468, 251780, 180840]</td>\n",
       "    </tr>\n",
       "    <tr>\n",
       "      <th>1808</th>\n",
       "      <td>232948742</td>\n",
       "      <td>t</td>\n",
       "      <td>84024060656803275</td>\n",
       "      <td>720575940637186126</td>\n",
       "      <td>84024060656799478</td>\n",
       "      <td>720575940627765099</td>\n",
       "      <td>11.450621</td>\n",
       "      <td>67</td>\n",
       "      <td>0.032924</td>\n",
       "      <td>0.898681</td>\n",
       "      <td>0.032187</td>\n",
       "      <td>0.001579</td>\n",
       "      <td>1.981975e-03</td>\n",
       "      <td>0.032648</td>\n",
       "      <td>t</td>\n",
       "      <td>[780720, 250520, 180640]</td>\n",
       "      <td>[780840, 250488, 180640]</td>\n",
       "    </tr>\n",
       "    <tr>\n",
       "      <th>1810</th>\n",
       "      <td>239559737</td>\n",
       "      <td>t</td>\n",
       "      <td>84094429400832117</td>\n",
       "      <td>720575940637186126</td>\n",
       "      <td>84094429400820474</td>\n",
       "      <td>720575940620162332</td>\n",
       "      <td>275.813080</td>\n",
       "      <td>142</td>\n",
       "      <td>0.010846</td>\n",
       "      <td>0.939684</td>\n",
       "      <td>0.026259</td>\n",
       "      <td>0.020127</td>\n",
       "      <td>7.136991e-05</td>\n",
       "      <td>0.003012</td>\n",
       "      <td>t</td>\n",
       "      <td>[784380, 249888, 176080]</td>\n",
       "      <td>[784280, 249884, 176040]</td>\n",
       "    </tr>\n",
       "    <tr>\n",
       "      <th>1811</th>\n",
       "      <td>239559595</td>\n",
       "      <td>t</td>\n",
       "      <td>84094429400800897</td>\n",
       "      <td>720575940637186126</td>\n",
       "      <td>84094429400805747</td>\n",
       "      <td>720575940627076396</td>\n",
       "      <td>241.319305</td>\n",
       "      <td>142</td>\n",
       "      <td>0.002015</td>\n",
       "      <td>0.988075</td>\n",
       "      <td>0.000435</td>\n",
       "      <td>0.007664</td>\n",
       "      <td>2.856799e-06</td>\n",
       "      <td>0.001808</td>\n",
       "      <td>t</td>\n",
       "      <td>[784652, 251304, 175600]</td>\n",
       "      <td>[784708, 251216, 175600]</td>\n",
       "    </tr>\n",
       "    <tr>\n",
       "      <th>1812</th>\n",
       "      <td>242611511</td>\n",
       "      <td>t</td>\n",
       "      <td>84587010543015811</td>\n",
       "      <td>720575940637186126</td>\n",
       "      <td>84587010543017084</td>\n",
       "      <td>720575940498620410</td>\n",
       "      <td>16.303911</td>\n",
       "      <td>58</td>\n",
       "      <td>0.190740</td>\n",
       "      <td>0.491727</td>\n",
       "      <td>0.150436</td>\n",
       "      <td>0.009635</td>\n",
       "      <td>2.533201e-02</td>\n",
       "      <td>0.132131</td>\n",
       "      <td>t</td>\n",
       "      <td>[811568, 250932, 156880]</td>\n",
       "      <td>[811472, 250896, 156880]</td>\n",
       "    </tr>\n",
       "  </tbody>\n",
       "</table>\n",
       "<p>1422 rows × 17 columns</p>\n",
       "</div>"
      ],
      "text/plain": [
       "             id valid  pre_pt_supervoxel_id      pre_pt_root_id  \\\n",
       "0      43917406     t     84727748031271775  720575940637186126   \n",
       "1      61506994     t     83320304562319572  720575940637186126   \n",
       "2     232489725     t     84094429400951571  720575940637186126   \n",
       "3     232945196     t     84094429400971745  720575940637186126   \n",
       "4     239559768     t     84094429400828504  720575940637186126   \n",
       "...         ...   ...                   ...                 ...   \n",
       "1807  232945305     t     84094429400962617  720575940637186126   \n",
       "1808  232948742     t     84024060656803275  720575940637186126   \n",
       "1810  239559737     t     84094429400832117  720575940637186126   \n",
       "1811  239559595     t     84094429400800897  720575940637186126   \n",
       "1812  242611511     t     84587010543015811  720575940637186126   \n",
       "\n",
       "      post_pt_supervoxel_id     post_pt_root_id  connection_score  \\\n",
       "0         84727748031264584  720575940626445100         63.022396   \n",
       "1         83320304562328649  720575940619082317         54.087387   \n",
       "2         84094429400956510  720575940590374582        270.478394   \n",
       "3         84024060656788915  720575940583849998        100.080338   \n",
       "4         84094429400827280  720575940626431532         31.991150   \n",
       "...                     ...                 ...               ...   \n",
       "1807      84094429400990219  720575940633432206         51.244499   \n",
       "1808      84024060656799478  720575940627765099         11.450621   \n",
       "1810      84094429400820474  720575940620162332        275.813080   \n",
       "1811      84094429400805747  720575940627076396        241.319305   \n",
       "1812      84587010543017084  720575940498620410         16.303911   \n",
       "\n",
       "      cleft_score      gaba       ach      glut       oct           ser  \\\n",
       "0             124  0.010390  0.950272  0.002132  0.008374  3.866737e-04   \n",
       "1             139  0.000389  0.997138  0.000002  0.001707  9.331072e-07   \n",
       "2             137  0.064027  0.356340  0.515614  0.004106  6.949618e-03   \n",
       "3             144  0.021885  0.813248  0.028637  0.006434  7.459946e-03   \n",
       "4             146  0.087519  0.123452  0.744683  0.002957  2.260582e-02   \n",
       "...           ...       ...       ...       ...       ...           ...   \n",
       "1807          111  0.006596  0.946592  0.003757  0.034190  8.990807e-05   \n",
       "1808           67  0.032924  0.898681  0.032187  0.001579  1.981975e-03   \n",
       "1810          142  0.010846  0.939684  0.026259  0.020127  7.136991e-05   \n",
       "1811          142  0.002015  0.988075  0.000435  0.007664  2.856799e-06   \n",
       "1812           58  0.190740  0.491727  0.150436  0.009635  2.533201e-02   \n",
       "\n",
       "            da valid_nt           pre_pt_position          post_pt_position  \n",
       "0     0.028445        t  [820188, 250388, 153800]  [820212, 250440, 153840]  \n",
       "1     0.000762        t  [740408, 246192, 190520]  [740380, 246032, 190560]  \n",
       "2     0.052963        t  [782552, 248476, 180040]  [782508, 248392, 180080]  \n",
       "3     0.122336        t  [782036, 250656, 180240]  [781968, 250780, 180200]  \n",
       "4     0.018783        t  [783352, 250516, 176320]  [783288, 250484, 176280]  \n",
       "...        ...      ...                       ...                       ...  \n",
       "1807  0.008774        t  [782376, 251864, 180800]  [782468, 251780, 180840]  \n",
       "1808  0.032648        t  [780720, 250520, 180640]  [780840, 250488, 180640]  \n",
       "1810  0.003012        t  [784380, 249888, 176080]  [784280, 249884, 176040]  \n",
       "1811  0.001808        t  [784652, 251304, 175600]  [784708, 251216, 175600]  \n",
       "1812  0.132131        t  [811568, 250932, 156880]  [811472, 250896, 156880]  \n",
       "\n",
       "[1422 rows x 17 columns]"
      ]
     },
     "execution_count": 21,
     "metadata": {},
     "output_type": "execute_result"
    }
   ],
   "source": [
    "%%time \n",
    "\n",
    "# Code to retrieve a root id that will work with this query. See the next section for more details\n",
    "latest_roots = client.chunkedgraph.get_latest_roots(720575940627185911, timestamp_future=timestamp_now)\n",
    "latest_roots\n",
    "\n",
    "syn_df = client.materialize.live_query(synapse_table, \n",
    "                                       filter_in_dict={\"pre_pt_root_id\": [latest_roots[0]]},\n",
    "                                       timestamp=timestamp_now)\n",
    "\n",
    "syn_df = syn_df[syn_df[\"cleft_score\"] >= 50]\n",
    "\n",
    "syn_df"
   ]
  },
  {
   "cell_type": "markdown",
   "metadata": {},
   "source": [
    "If the root id is incompatible with the timestamp, an error is raised:"
   ]
  },
  {
   "cell_type": "code",
   "execution_count": 22,
   "metadata": {},
   "outputs": [
    {
     "ename": "ValueError",
     "evalue": "Timestamp incompatible with IDs: [720575940627185911] are expired, use chunkedgraph client to find valid ID(s)",
     "output_type": "error",
     "traceback": [
      "\u001b[0;31m---------------------------------------------------------------------------\u001b[0m",
      "\u001b[0;31mValueError\u001b[0m                                Traceback (most recent call last)",
      "\u001b[0;32m<timed exec>\u001b[0m in \u001b[0;36m<module>\u001b[0;34m\u001b[0m\n",
      "\u001b[0;32m~/CAVEclient/caveclient/materializationengine.py\u001b[0m in \u001b[0;36mlive_query\u001b[0;34m(self, table, timestamp, filter_in_dict, filter_out_dict, filter_equal_dict, filter_spatial, join_args, select_columns, offset, limit, datastack_name, split_positions, post_filter)\u001b[0m\n\u001b[1;32m    867\u001b[0m         \u001b[0;31m# most recent materialization\u001b[0m\u001b[0;34m\u001b[0m\u001b[0;34m\u001b[0m\u001b[0;34m\u001b[0m\u001b[0m\n\u001b[1;32m    868\u001b[0m         \u001b[0;32mwith\u001b[0m \u001b[0mTimeIt\u001b[0m\u001b[0;34m(\u001b[0m\u001b[0;34m\"map_filters\"\u001b[0m\u001b[0;34m)\u001b[0m\u001b[0;34m:\u001b[0m\u001b[0;34m\u001b[0m\u001b[0;34m\u001b[0m\u001b[0m\n\u001b[0;32m--> 869\u001b[0;31m             past_filters, future_map = self.map_filters(\n\u001b[0m\u001b[1;32m    870\u001b[0m                 \u001b[0;34m[\u001b[0m\u001b[0mfilter_in_dict\u001b[0m\u001b[0;34m,\u001b[0m \u001b[0mfilter_out_dict\u001b[0m\u001b[0;34m,\u001b[0m \u001b[0mfilter_equal_dict\u001b[0m\u001b[0;34m]\u001b[0m\u001b[0;34m,\u001b[0m\u001b[0;34m\u001b[0m\u001b[0;34m\u001b[0m\u001b[0m\n\u001b[1;32m    871\u001b[0m                 \u001b[0mtimestamp\u001b[0m\u001b[0;34m,\u001b[0m\u001b[0;34m\u001b[0m\u001b[0;34m\u001b[0m\u001b[0m\n",
      "\u001b[0;32m~/CAVEclient/caveclient/materializationengine.py\u001b[0m in \u001b[0;36mmap_filters\u001b[0;34m(self, filters, timestamp, timestamp_past)\u001b[0m\n\u001b[1;32m    685\u001b[0m                 \u001b[0mtoo_recent_str\u001b[0m \u001b[0;34m=\u001b[0m \u001b[0;34m\"\"\u001b[0m\u001b[0;34m\u001b[0m\u001b[0;34m\u001b[0m\u001b[0m\n\u001b[1;32m    686\u001b[0m \u001b[0;34m\u001b[0m\u001b[0m\n\u001b[0;32m--> 687\u001b[0;31m             raise ValueError(\n\u001b[0m\u001b[1;32m    688\u001b[0m                 \u001b[0;34mf\"Timestamp incompatible with IDs: {too_old_str}{too_recent_str}use chunkedgraph client to find valid ID(s)\"\u001b[0m\u001b[0;34m\u001b[0m\u001b[0;34m\u001b[0m\u001b[0m\n\u001b[1;32m    689\u001b[0m             )\n",
      "\u001b[0;31mValueError\u001b[0m: Timestamp incompatible with IDs: [720575940627185911] are expired, use chunkedgraph client to find valid ID(s)"
     ]
    }
   ],
   "source": [
    "%%time \n",
    "\n",
    "syn_df = client.materialize.live_query(synapse_table, \n",
    "                                       filter_in_dict={\"pre_pt_root_id\": [720575940627185911]},\n",
    "                                       timestamp=timestamp_now)"
   ]
  },
  {
   "cell_type": "markdown",
   "metadata": {},
   "source": [
    "## Retrieving matching root ids\n",
    "\n",
    "Neuroglancer shows the most recent version of the segmentation by default. Neurons that have been updated since a materialized version are not included in a table of that version. To reconcile this, users need to look up root ids for their data with a timestamp. \n",
    "\n",
    "We generally recommend storing annotations as points in space as these can be mapped to root ids easily (that's basically what materialization is). Soon, users will be able to create their own annotation tables and CAVE will provide fitting root ids automatically. Still, use cases will arrive that require a manual materialization by the user."
   ]
  },
  {
   "cell_type": "markdown",
   "metadata": {},
   "source": [
    "### Programmatically/Manually - Root id history\n",
    "\n",
    "The client interface can be used to query the \"lineage\" of a root id. This contains all ancestors and successors in time and can be restricted with timestamps in the past and future. The lineage can be retrieved as networkx graph:"
   ]
  },
  {
   "cell_type": "code",
   "execution_count": 23,
   "metadata": {},
   "outputs": [
    {
     "data": {
      "text/plain": [
       "<networkx.classes.digraph.DiGraph at 0x7f6d02ad5d00>"
      ]
     },
     "execution_count": 23,
     "metadata": {},
     "output_type": "execute_result"
    }
   ],
   "source": [
    "client.chunkedgraph.get_lineage_graph(720575940627185911, as_nx_graph=True)"
   ]
  },
  {
   "cell_type": "markdown",
   "metadata": {},
   "source": [
    "Based on the lineage graph the latest root ids can be retrieved:"
   ]
  },
  {
   "cell_type": "code",
   "execution_count": 24,
   "metadata": {},
   "outputs": [
    {
     "data": {
      "text/plain": [
       "array([720575940627197566])"
      ]
     },
     "execution_count": 24,
     "metadata": {},
     "output_type": "execute_result"
    }
   ],
   "source": [
    "latest_roots = client.chunkedgraph.get_latest_roots(720575940627197566, timestamp_future=timestamp_now)\n",
    "latest_roots"
   ]
  },
  {
   "cell_type": "markdown",
   "metadata": {},
   "source": [
    "As there can be multiple successors for a given ID (because of splits) the user will have to determine which of these matches the neuron of interest.\n",
    "\n",
    "The client also enables the retrieval of the original root ids that contributed to a given neuron:"
   ]
  },
  {
   "cell_type": "code",
   "execution_count": 25,
   "metadata": {},
   "outputs": [
    {
     "data": {
      "text/plain": [
       "array([720575940611736976, 720575940619683443, 720575940502382601,\n",
       "       720575940502373129, 720575940502373897, 720575940502377225,\n",
       "       720575940519142108, 720575940519144924, 720575940519141596,\n",
       "       720575940519144156, 720575940502370057, 720575940519126492,\n",
       "       720575940519126748, 720575940519130332, 720575940519131356,\n",
       "       720575940519134684, 720575940618400560, 720575940615477396,\n",
       "       720575940618047811, 720575940601614877, 720575940630717493])"
      ]
     },
     "execution_count": 25,
     "metadata": {},
     "output_type": "execute_result"
    }
   ],
   "source": [
    "original_roots = client.chunkedgraph.get_original_roots(720575940627197566)\n",
    "original_roots"
   ]
  },
  {
   "cell_type": "markdown",
   "metadata": {},
   "source": [
    "### Programmatically - Spatial lookup\n",
    "\n",
    "The client interface allows users to query a root id for a given supervoxel id (see Section 5 in [the related tutorial](https://github.com/seung-lab/CAVEclient/blob/master/CAVEclientExamples.ipynb). Supervoxel ids can be retrieved from the segmentation using [cloudvolume](https://github.com/seung-lab/cloud-volume/)."
   ]
  },
  {
   "cell_type": "markdown",
   "metadata": {},
   "source": [
    "### Neuroglancer\n",
    "\n",
    "The segmentation layer has an option under the tab \"graph\" to lock a layer to a specific timestamps. Then, root ids are looked up with this specific timestamp (proofreading is not possible in this mode). Be aware that this mode does not prevent the pasting of root ids from different timestamps into the layer as that circumvents the lookup to the server."
   ]
  },
  {
   "cell_type": "markdown",
   "metadata": {},
   "source": [
    "## Timestamps\n",
    "\n",
    "Timestamps are _always_ UTC. \n",
    "\n",
    "Please be aware that the package or browser you are using might format timestamps in your local timezone. The timestamp for all annotation tables within a materialization are the same:"
   ]
  },
  {
   "cell_type": "code",
   "execution_count": 26,
   "metadata": {},
   "outputs": [
    {
     "data": {
      "text/plain": [
       "{'valid': None,\n",
       " 'time_stamp': datetime.datetime(2021, 3, 10, 19, 7, 56, 375440, tzinfo=datetime.timezone.utc),\n",
       " 'id': 3,\n",
       " 'version': 15,\n",
       " 'datastack': 'flywire_fafb_production',\n",
       " 'expires_on': datetime.datetime(2021, 4, 9, 19, 7, 56, 375440, tzinfo=datetime.timezone.utc)}"
      ]
     },
     "execution_count": 26,
     "metadata": {},
     "output_type": "execute_result"
    }
   ],
   "source": [
    "client.materialize.get_version_metadata(15)"
   ]
  },
  {
   "cell_type": "markdown",
   "metadata": {},
   "source": [
    "## Creating neuroglancer links programmatically\n",
    "\n",
    "We are building infrastructure into neuroglancer to display this information there while browsing neurons. Until this is ready, the most convenient way to visualize this information in neuroglancer is to programmatically create neuroglancer state and to upload them to the state server. The links can then be distributed. \n",
    "\n",
    "[NeuroglancerAnnotationUI (nglui)](https://github.com/seung-lab/NeuroglancerAnnotationUI)  makes programmatic creation of neuroglancer states convenient. The [statebuilder examples](https://github.com/seung-lab/NeuroglancerAnnotationUI/blob/master/examples/statebuilder_examples.ipynb) shows how one can directly from dataframes as the one above to neuroglancer states. The [related tutorial on this client](https://github.com/seung-lab/CAVEclient/blob/master/CAVEclientExamples.ipynb) shows under \"4. JSON Service\" how this client can be used to upload states to the server and to create neuroglancer links.\n"
   ]
  },
  {
   "cell_type": "markdown",
   "metadata": {},
   "source": [
    "## Further references\n",
    "\n",
    "\n",
    "More examples for the usage of CAVE can be found in a related project:\n",
    "\n",
    "https://github.com/AllenInstitute/MicronsBinder\n",
    "\n",
    "A rough overview of the structure of our backend services can be found here:\n",
    "\n",
    "https://github.com/seung-lab/AnnotationPipelineOverview"
   ]
  },
  {
   "cell_type": "markdown",
   "metadata": {},
   "source": [
    "## Credit\n",
    "\n",
    "CAVE is developed at Princeton University and the Allen Institute for Brain Science within the iarpa MICrONs project and the FlyWire project. Main contributors to the design and backend development \n",
    "are Derrick Brittain, Forrest Collman, Sven Dorkenwald, Chris Jordan, Casey Schneider-Mizell\n",
    "\n",
    "A citable publication is in the works. Please contact us if you are interested in using CAVE on another dataset. "
   ]
  }
 ],
 "metadata": {
  "kernelspec": {
   "display_name": "Python 3",
   "language": "python",
   "name": "python3"
  },
  "language_info": {
   "codemirror_mode": {
    "name": "ipython",
    "version": 3
   },
   "file_extension": ".py",
   "mimetype": "text/x-python",
   "name": "python",
   "nbconvert_exporter": "python",
   "pygments_lexer": "ipython3",
   "version": "3.8.5"
  }
 },
 "nbformat": 4,
 "nbformat_minor": 5
}
