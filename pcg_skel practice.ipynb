{
 "cells": [
  {
   "cell_type": "code",
   "execution_count": 1,
   "id": "f542a671",
   "metadata": {},
   "outputs": [
    {
     "data": {
      "text/html": [
       "<style>.container { width:100% !important; }</style>"
      ],
      "text/plain": [
       "<IPython.core.display.HTML object>"
      ]
     },
     "metadata": {},
     "output_type": "display_data"
    }
   ],
   "source": [
    "from IPython.display import display, HTML\n",
    "display(HTML(\"<style>.container { width:100% !important; }</style>\"))"
   ]
  },
  {
   "cell_type": "markdown",
   "id": "31fa178c",
   "metadata": {},
   "source": [
    "# Following along the pcg_skel docs and tutorial:\n",
    "## https://caveconnectome.github.io/pcg_skel/\n",
    "## https://caveconnectome.github.io/pcg_skel/tutorial/"
   ]
  },
  {
   "cell_type": "code",
   "execution_count": 4,
   "id": "8ac6cde0",
   "metadata": {},
   "outputs": [
    {
     "data": {
      "text/plain": [
       "['',\n",
       " '/Library/Developer/CommandLineTools/Library/Frameworks/Python3.framework/Versions/3.9/lib/python3.9',\n",
       " '/Library/Developer/CommandLineTools/Library/Frameworks/Python3.framework/Versions/3.9/lib/python3.9/lib-dynload',\n",
       " '/Library/Developer/CommandLineTools/Library/Frameworks/Python3.framework/Versions/3.9/lib/python39.zip',\n",
       " '/Users/keith.wiley/virtual_envs/work_env3/lib/python3.9/site-packages']"
      ]
     },
     "execution_count": 4,
     "metadata": {},
     "output_type": "execute_result"
    }
   ],
   "source": [
    "import sys\n",
    "sorted(sys.path)"
   ]
  },
  {
   "cell_type": "code",
   "execution_count": 5,
   "id": "0a1543b9",
   "metadata": {},
   "outputs": [],
   "source": [
    "import pcg_skel\n",
    "pcg_skel.__file__"
   ]
  },
  {
   "cell_type": "code",
   "execution_count": 6,
   "id": "56b144e5",
   "metadata": {},
   "outputs": [
    {
     "name": "stdout",
     "output_type": "stream",
     "text": [
      "_NamespacePath(['/Users/keith.wiley/Work/Code/pcg_skel'])\n"
     ]
    }
   ],
   "source": [
    "print(pcg_skel.__path__)"
   ]
  },
  {
   "cell_type": "code",
   "execution_count": 7,
   "id": "32b92455",
   "metadata": {},
   "outputs": [
    {
     "ename": "AttributeError",
     "evalue": "module 'pcg_skel' has no attribute 'pcg_skeleton'",
     "output_type": "error",
     "traceback": [
      "\u001b[0;31m---------------------------------------------------------------------------\u001b[0m",
      "\u001b[0;31mAttributeError\u001b[0m                            Traceback (most recent call last)",
      "Cell \u001b[0;32mIn[7], line 1\u001b[0m\n\u001b[0;32m----> 1\u001b[0m \u001b[43mpcg_skel\u001b[49m\u001b[38;5;241;43m.\u001b[39;49m\u001b[43mpcg_skeleton\u001b[49m\n",
      "\u001b[0;31mAttributeError\u001b[0m: module 'pcg_skel' has no attribute 'pcg_skeleton'"
     ]
    }
   ],
   "source": [
    "pcg_skel.pcg_skeleton"
   ]
  },
  {
   "cell_type": "code",
   "execution_count": 1,
   "id": "df80fee4",
   "metadata": {},
   "outputs": [
    {
     "name": "stdout",
     "output_type": "stream",
     "text": [
      "CPU times: user 889 ms, sys: 2.59 s, total: 3.48 s\n",
      "Wall time: 2.35 s\n"
     ]
    }
   ],
   "source": [
    "%%time\n",
    "import caveclient\n",
    "import pcg_skel\n",
    "\n",
    "datastack = 'minnie65_public'\n",
    "client = caveclient.CAVEclient(datastack)\n",
    "client.materialize.version = 795 # Ensure we will always use this data release\n",
    "root_id = 864691135397503777\n",
    "skel = pcg_skel.pcg_skeleton(root_id=root_id, client=client)"
   ]
  },
  {
   "cell_type": "code",
   "execution_count": 6,
   "id": "8dedad78",
   "metadata": {},
   "outputs": [
    {
     "data": {
      "text/plain": [
       "15474161.0"
      ]
     },
     "execution_count": 6,
     "metadata": {},
     "output_type": "execute_result"
    }
   ],
   "source": [
    "skel.path_length()"
   ]
  },
  {
   "cell_type": "code",
   "execution_count": 8,
   "id": "7332214a",
   "metadata": {},
   "outputs": [
    {
     "name": "stderr",
     "output_type": "stream",
     "text": [
      "The `client.materialize.views` interface is experimental and might experience breaking changes before the feature is stabilized.\n"
     ]
    },
    {
     "name": "stdout",
     "output_type": "stream",
     "text": [
      "CPU times: user 1.02 s, sys: 83.1 ms, total: 1.1 s\n",
      "Wall time: 15.5 s\n"
     ]
    }
   ],
   "source": [
    "%%time\n",
    "import caveclient\n",
    "from pcg_skel import pcg_skel\n",
    "\n",
    "datastack = 'minnie65_public'\n",
    "client = caveclient.CAVEclient(datastack)\n",
    "client.materialize.version = 795 # Ensure we will always use this data release\n",
    "\n",
    "root_id = 864691135397503777\n",
    "\n",
    "# Get the location of the soma from nucleus detection:\n",
    "root_resolution = [1,1,1] # Could be another resolution as well, but this will mean the location is in nm.\n",
    "soma_df = client.materialize.views.nucleus_detection_lookup_v1(\n",
    "    pt_root_id = root_id\n",
    "    ).query(\n",
    "        desired_resolution = root_resolution\n",
    "    )\n",
    "soma_location = soma_df['pt_position'].values[0]\n",
    "\n",
    "# Use the above parameters in the skeletonization:\n",
    "\n",
    "skel = pcg_skel.coord_space_skeleton(\n",
    "    root_id,\n",
    "    client,\n",
    "    root_point=soma_location,\n",
    "    root_point_resolution=root_resolution,\n",
    "    collapse_soma=True,\n",
    "    collapse_radius=7500,\n",
    ")"
   ]
  },
  {
   "cell_type": "code",
   "execution_count": 9,
   "id": "d62c8dc7",
   "metadata": {},
   "outputs": [
    {
     "name": "stdout",
     "output_type": "stream",
     "text": [
      "CPU times: user 964 ms, sys: 59.2 ms, total: 1.02 s\n",
      "Wall time: 30.1 s\n"
     ]
    }
   ],
   "source": [
    "%%time\n",
    "nrn = pcg_skel.pcg_meshwork(\n",
    "    root_id = root_id,\n",
    "    client = client,\n",
    "    root_point = soma_location,\n",
    "    root_point_resolution = root_resolution,\n",
    "    collapse_soma = True,\n",
    "    collapse_radius = 7500,\n",
    "    synapses=True,\n",
    ")"
   ]
  },
  {
   "cell_type": "code",
   "execution_count": 15,
   "id": "592a9a91",
   "metadata": {},
   "outputs": [
    {
     "data": {
      "text/html": [
       "<div>\n",
       "<style scoped>\n",
       "    .dataframe tbody tr th:only-of-type {\n",
       "        vertical-align: middle;\n",
       "    }\n",
       "\n",
       "    .dataframe tbody tr th {\n",
       "        vertical-align: top;\n",
       "    }\n",
       "\n",
       "    .dataframe thead th {\n",
       "        text-align: right;\n",
       "    }\n",
       "</style>\n",
       "<table border=\"1\" class=\"dataframe\">\n",
       "  <thead>\n",
       "    <tr style=\"text-align: right;\">\n",
       "      <th></th>\n",
       "      <th>id</th>\n",
       "      <th>size</th>\n",
       "      <th>pre_pt_supervoxel_id</th>\n",
       "      <th>pre_pt_root_id</th>\n",
       "      <th>post_pt_supervoxel_id</th>\n",
       "      <th>pre_pt_position</th>\n",
       "      <th>post_pt_position</th>\n",
       "      <th>ctr_pt_position</th>\n",
       "      <th>pre_pt_level2_id</th>\n",
       "      <th>pre_pt_mesh_ind</th>\n",
       "      <th>pre_pt_mesh_ind_filt</th>\n",
       "    </tr>\n",
       "  </thead>\n",
       "  <tbody>\n",
       "    <tr>\n",
       "      <th>0</th>\n",
       "      <td>222458266</td>\n",
       "      <td>19216</td>\n",
       "      <td>94159084433346408</td>\n",
       "      <td>864691135397503777</td>\n",
       "      <td>94159084433355759</td>\n",
       "      <td>[854472.0, 414056.0, 915040.0]</td>\n",
       "      <td>[854640.0, 413680.0, 915440.0]</td>\n",
       "      <td>[854592.0, 413984.0, 915360.0]</td>\n",
       "      <td>166216678470845194</td>\n",
       "      <td>12662</td>\n",
       "      <td>12662</td>\n",
       "    </tr>\n",
       "    <tr>\n",
       "      <th>1</th>\n",
       "      <td>415060597</td>\n",
       "      <td>4352</td>\n",
       "      <td>109934464683069477</td>\n",
       "      <td>864691135397503777</td>\n",
       "      <td>109934533402545858</td>\n",
       "      <td>[1313904.0, 795320.0, 821960.0]</td>\n",
       "      <td>[1313808.0, 795720.0, 822000.0]</td>\n",
       "      <td>[1313720.0, 795432.0, 822040.0]</td>\n",
       "      <td>181992058720879676</td>\n",
       "      <td>14651</td>\n",
       "      <td>14651</td>\n",
       "    </tr>\n",
       "    <tr>\n",
       "      <th>2</th>\n",
       "      <td>234975568</td>\n",
       "      <td>1688</td>\n",
       "      <td>95282373134387093</td>\n",
       "      <td>864691135397503777</td>\n",
       "      <td>95282373134380129</td>\n",
       "      <td>[887920.0, 336216.0, 960480.0]</td>\n",
       "      <td>[888256.0, 336392.0, 960440.0]</td>\n",
       "      <td>[888120.0, 336488.0, 960480.0]</td>\n",
       "      <td>167339967171790083</td>\n",
       "      <td>13138</td>\n",
       "      <td>13138</td>\n",
       "    </tr>\n",
       "    <tr>\n",
       "      <th>3</th>\n",
       "      <td>385655265</td>\n",
       "      <td>25748</td>\n",
       "      <td>107963178377293582</td>\n",
       "      <td>864691135397503777</td>\n",
       "      <td>107892809633163367</td>\n",
       "      <td>[1255864.0, 765688.0, 1003600.0]</td>\n",
       "      <td>[1255544.0, 765800.0, 1003920.0]</td>\n",
       "      <td>[1255768.0, 765800.0, 1003960.0]</td>\n",
       "      <td>180020772415209494</td>\n",
       "      <td>14572</td>\n",
       "      <td>14572</td>\n",
       "    </tr>\n",
       "    <tr>\n",
       "      <th>4</th>\n",
       "      <td>255404116</td>\n",
       "      <td>388</td>\n",
       "      <td>96843954657937028</td>\n",
       "      <td>864691135397503777</td>\n",
       "      <td>96843954657942059</td>\n",
       "      <td>[932720.0, 736840.0, 1000320.0]</td>\n",
       "      <td>[932736.0, 737032.0, 1000560.0]</td>\n",
       "      <td>[932784.0, 736928.0, 1000360.0]</td>\n",
       "      <td>168901548695356210</td>\n",
       "      <td>13452</td>\n",
       "      <td>13452</td>\n",
       "    </tr>\n",
       "  </tbody>\n",
       "</table>\n",
       "</div>"
      ],
      "text/plain": [
       "          id   size  pre_pt_supervoxel_id      pre_pt_root_id  \\\n",
       "0  222458266  19216     94159084433346408  864691135397503777   \n",
       "1  415060597   4352    109934464683069477  864691135397503777   \n",
       "2  234975568   1688     95282373134387093  864691135397503777   \n",
       "3  385655265  25748    107963178377293582  864691135397503777   \n",
       "4  255404116    388     96843954657937028  864691135397503777   \n",
       "\n",
       "   post_pt_supervoxel_id                   pre_pt_position  \\\n",
       "0      94159084433355759    [854472.0, 414056.0, 915040.0]   \n",
       "1     109934533402545858   [1313904.0, 795320.0, 821960.0]   \n",
       "2      95282373134380129    [887920.0, 336216.0, 960480.0]   \n",
       "3     107892809633163367  [1255864.0, 765688.0, 1003600.0]   \n",
       "4      96843954657942059   [932720.0, 736840.0, 1000320.0]   \n",
       "\n",
       "                   post_pt_position                   ctr_pt_position  \\\n",
       "0    [854640.0, 413680.0, 915440.0]    [854592.0, 413984.0, 915360.0]   \n",
       "1   [1313808.0, 795720.0, 822000.0]   [1313720.0, 795432.0, 822040.0]   \n",
       "2    [888256.0, 336392.0, 960440.0]    [888120.0, 336488.0, 960480.0]   \n",
       "3  [1255544.0, 765800.0, 1003920.0]  [1255768.0, 765800.0, 1003960.0]   \n",
       "4   [932736.0, 737032.0, 1000560.0]   [932784.0, 736928.0, 1000360.0]   \n",
       "\n",
       "     pre_pt_level2_id  pre_pt_mesh_ind  pre_pt_mesh_ind_filt  \n",
       "0  166216678470845194            12662                 12662  \n",
       "1  181992058720879676            14651                 14651  \n",
       "2  167339967171790083            13138                 13138  \n",
       "3  180020772415209494            14572                 14572  \n",
       "4  168901548695356210            13452                 13452  "
      ]
     },
     "execution_count": 15,
     "metadata": {},
     "output_type": "execute_result"
    }
   ],
   "source": [
    "nrn.anno.pre_syn.df.head()"
   ]
  },
  {
   "cell_type": "code",
   "execution_count": 16,
   "id": "6e7320fc",
   "metadata": {},
   "outputs": [
    {
     "data": {
      "text/html": [
       "<div>\n",
       "<style scoped>\n",
       "    .dataframe tbody tr th:only-of-type {\n",
       "        vertical-align: middle;\n",
       "    }\n",
       "\n",
       "    .dataframe tbody tr th {\n",
       "        vertical-align: top;\n",
       "    }\n",
       "\n",
       "    .dataframe thead th {\n",
       "        text-align: right;\n",
       "    }\n",
       "</style>\n",
       "<table border=\"1\" class=\"dataframe\">\n",
       "  <thead>\n",
       "    <tr style=\"text-align: right;\">\n",
       "      <th></th>\n",
       "      <th>id</th>\n",
       "      <th>size</th>\n",
       "      <th>pre_pt_supervoxel_id</th>\n",
       "      <th>post_pt_supervoxel_id</th>\n",
       "      <th>post_pt_root_id</th>\n",
       "      <th>pre_pt_position</th>\n",
       "      <th>post_pt_position</th>\n",
       "      <th>ctr_pt_position</th>\n",
       "      <th>post_pt_level2_id</th>\n",
       "      <th>post_pt_mesh_ind</th>\n",
       "      <th>post_pt_mesh_ind_filt</th>\n",
       "    </tr>\n",
       "  </thead>\n",
       "  <tbody>\n",
       "    <tr>\n",
       "      <th>0</th>\n",
       "      <td>172461633</td>\n",
       "      <td>15200</td>\n",
       "      <td>90359378338883207</td>\n",
       "      <td>90359378338887551</td>\n",
       "      <td>864691135397503777</td>\n",
       "      <td>[745048.0, 418840.0, 888160.0]</td>\n",
       "      <td>[744744.0, 419112.0, 888240.0]</td>\n",
       "      <td>[744776.0, 419024.0, 888160.0]</td>\n",
       "      <td>162416972376572296</td>\n",
       "      <td>7995</td>\n",
       "      <td>7995</td>\n",
       "    </tr>\n",
       "    <tr>\n",
       "      <th>1</th>\n",
       "      <td>142677506</td>\n",
       "      <td>22532</td>\n",
       "      <td>88108334439511704</td>\n",
       "      <td>88108265720062299</td>\n",
       "      <td>864691135397503777</td>\n",
       "      <td>[678880.0, 441128.0, 890840.0]</td>\n",
       "      <td>[679104.0, 440728.0, 890800.0]</td>\n",
       "      <td>[679216.0, 440768.0, 890720.0]</td>\n",
       "      <td>160165859757654524</td>\n",
       "      <td>3412</td>\n",
       "      <td>3412</td>\n",
       "    </tr>\n",
       "    <tr>\n",
       "      <th>2</th>\n",
       "      <td>145066644</td>\n",
       "      <td>4532</td>\n",
       "      <td>88036110403862351</td>\n",
       "      <td>88036110403865679</td>\n",
       "      <td>864691135397503777</td>\n",
       "      <td>[677880.0, 387048.0, 939680.0]</td>\n",
       "      <td>[677400.0, 387152.0, 939720.0]</td>\n",
       "      <td>[677648.0, 387344.0, 939760.0]</td>\n",
       "      <td>160093704441299965</td>\n",
       "      <td>3236</td>\n",
       "      <td>3236</td>\n",
       "    </tr>\n",
       "    <tr>\n",
       "      <th>3</th>\n",
       "      <td>149896539</td>\n",
       "      <td>2660</td>\n",
       "      <td>88811815655855809</td>\n",
       "      <td>88882184400027792</td>\n",
       "      <td>864691135397503777</td>\n",
       "      <td>[700472.0, 436192.0, 873960.0]</td>\n",
       "      <td>[700576.0, 436056.0, 874120.0]</td>\n",
       "      <td>[700536.0, 436168.0, 874080.0]</td>\n",
       "      <td>160939778437546796</td>\n",
       "      <td>4447</td>\n",
       "      <td>4447</td>\n",
       "    </tr>\n",
       "    <tr>\n",
       "      <th>4</th>\n",
       "      <td>170547369</td>\n",
       "      <td>2320</td>\n",
       "      <td>90357866644502688</td>\n",
       "      <td>90357866644495463</td>\n",
       "      <td>864691135397503777</td>\n",
       "      <td>[743560.0, 374824.0, 925320.0]</td>\n",
       "      <td>[743824.0, 374696.0, 924840.0]</td>\n",
       "      <td>[743512.0, 374784.0, 925040.0]</td>\n",
       "      <td>162415460682301674</td>\n",
       "      <td>7940</td>\n",
       "      <td>7940</td>\n",
       "    </tr>\n",
       "  </tbody>\n",
       "</table>\n",
       "</div>"
      ],
      "text/plain": [
       "          id   size  pre_pt_supervoxel_id  post_pt_supervoxel_id  \\\n",
       "0  172461633  15200     90359378338883207      90359378338887551   \n",
       "1  142677506  22532     88108334439511704      88108265720062299   \n",
       "2  145066644   4532     88036110403862351      88036110403865679   \n",
       "3  149896539   2660     88811815655855809      88882184400027792   \n",
       "4  170547369   2320     90357866644502688      90357866644495463   \n",
       "\n",
       "      post_pt_root_id                 pre_pt_position  \\\n",
       "0  864691135397503777  [745048.0, 418840.0, 888160.0]   \n",
       "1  864691135397503777  [678880.0, 441128.0, 890840.0]   \n",
       "2  864691135397503777  [677880.0, 387048.0, 939680.0]   \n",
       "3  864691135397503777  [700472.0, 436192.0, 873960.0]   \n",
       "4  864691135397503777  [743560.0, 374824.0, 925320.0]   \n",
       "\n",
       "                 post_pt_position                 ctr_pt_position  \\\n",
       "0  [744744.0, 419112.0, 888240.0]  [744776.0, 419024.0, 888160.0]   \n",
       "1  [679104.0, 440728.0, 890800.0]  [679216.0, 440768.0, 890720.0]   \n",
       "2  [677400.0, 387152.0, 939720.0]  [677648.0, 387344.0, 939760.0]   \n",
       "3  [700576.0, 436056.0, 874120.0]  [700536.0, 436168.0, 874080.0]   \n",
       "4  [743824.0, 374696.0, 924840.0]  [743512.0, 374784.0, 925040.0]   \n",
       "\n",
       "    post_pt_level2_id  post_pt_mesh_ind  post_pt_mesh_ind_filt  \n",
       "0  162416972376572296              7995                   7995  \n",
       "1  160165859757654524              3412                   3412  \n",
       "2  160093704441299965              3236                   3236  \n",
       "3  160939778437546796              4447                   4447  \n",
       "4  162415460682301674              7940                   7940  "
      ]
     },
     "execution_count": 16,
     "metadata": {},
     "output_type": "execute_result"
    }
   ],
   "source": [
    "nrn.anno.post_syn.df.head()"
   ]
  },
  {
   "cell_type": "code",
   "execution_count": null,
   "id": "d6fac29e",
   "metadata": {},
   "outputs": [],
   "source": []
  }
 ],
 "metadata": {
  "kernelspec": {
   "display_name": "work_env3",
   "language": "python",
   "name": "work_env3"
  },
  "language_info": {
   "codemirror_mode": {
    "name": "ipython",
    "version": 3
   },
   "file_extension": ".py",
   "mimetype": "text/x-python",
   "name": "python",
   "nbconvert_exporter": "python",
   "pygments_lexer": "ipython3",
   "version": "3.9.6"
  }
 },
 "nbformat": 4,
 "nbformat_minor": 5
}
